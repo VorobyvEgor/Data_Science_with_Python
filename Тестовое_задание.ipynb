{
  "nbformat": 4,
  "nbformat_minor": 0,
  "metadata": {
    "colab": {
      "name": "Тестовое задание.ipynb",
      "provenance": [],
      "collapsed_sections": [],
      "include_colab_link": true
    },
    "kernelspec": {
      "name": "python3",
      "display_name": "Python 3"
    },
    "language_info": {
      "name": "python"
    }
  },
  "cells": [
    {
      "cell_type": "markdown",
      "metadata": {
        "id": "view-in-github",
        "colab_type": "text"
      },
      "source": [
        "<a href=\"https://colab.research.google.com/github/VorobyvEgor/Data_Science_with_Python/blob/main/%D0%A2%D0%B5%D1%81%D1%82%D0%BE%D0%B2%D0%BE%D0%B5_%D0%B7%D0%B0%D0%B4%D0%B0%D0%BD%D0%B8%D0%B5.ipynb\" target=\"_parent\"><img src=\"https://colab.research.google.com/assets/colab-badge.svg\" alt=\"Open In Colab\"/></a>"
      ]
    },
    {
      "cell_type": "markdown",
      "metadata": {
        "id": "wgcrXhXF2hdx"
      },
      "source": [
        "### **Задание №1**. Предположим, что у вас в базе есть табличка с балансом по всем счетам клиента на конец дня. Из-за особенностей построения таблицы, часть значений незаполнена и физически это означает отсутствие информации об изменении баланса. Для простоты будем считать, пропущенные значения для одного пользователя не могут встретиться между двумя заполненными. Напишите SQL запрос для заполнения неизвестных значений по каждому клиенту последним известным.\n",
        "\n",
        "client_id |date | value\n",
        "--- | --- | ---\n",
        "1 | 14.04.2020 | 10000\n",
        "1 | 15.04.2020 | 5000\n",
        "1 | 16.04.2020 | NaN\n",
        "1 | 17.04.2020 | NaN\n",
        "1 | 18.04.2020 | NaN\n",
        "2 | 14.04.2020 | 250000\n",
        "2 | 15.04.2020 | 250000\n",
        "2 | 16.04.2020 | 230000\n",
        "2 | 17.04.2020 | 230000\n",
        "2 | 18.04.2020 | 225000\n",
        "3 | 14.04.2020 | 50000\n",
        "3 | 15.04.2020 | NaN\n",
        "3 | 16.04.2020 | NaN\n",
        "3 | 17.04.2020 | NaN\n",
        "3 | 18.04.2020 | NaN\n"
      ]
    },
    {
      "cell_type": "code",
      "metadata": {
        "id": "319frI6r16vt"
      },
      "source": [
        "select clients.client_id, clients.date,\n",
        "case when clients.value is not NULL then clients.value else new_table.value end as value\n",
        "from (\n",
        "select client_id, max(date), value\n",
        "from clients\n",
        "where value is not NULL\n",
        "group by client_id) new_table\n",
        "left join clients on clients.client_id = new_table.client_id;"
      ],
      "execution_count": null,
      "outputs": []
    },
    {
      "cell_type": "markdown",
      "metadata": {
        "id": "_KG06CvbJZbJ"
      },
      "source": [
        "### **Задание №1.1 (*)**. В прошлом задании мы считали, что пропущенные значения не могут находиться между двумя заполненными в рамках одного пользователя, что не всегда правда в реальных задачах. Напишите теперь SQL запрос без указанного допущения.\n",
        "\n",
        "client_id |date | value\n",
        "--- | --- | ---\n",
        "1 | 14.04.2020 | 10000\n",
        "1 | 15.04.2020 | 5000\n",
        "1 | 16.04.2020 | NaN\n",
        "1 | 17.04.2020 | 7000\n",
        "1 | 18.04.2020 | NaN\n",
        "2 | 14.04.2020 | 250000\n",
        "2 | 15.04.2020 | 250000\n",
        "2 | 16.04.2020 | 230000\n",
        "2 | 17.04.2020 | 230000\n",
        "2 | 18.04.2020 | 225000\n",
        "3 | 14.04.2020 | 50000\n",
        "3 | 15.04.2020 | NaN\n",
        "3 | 16.04.2020 | NaN\n",
        "3 | 17.04.2020 | 49000\n",
        "3 | 18.04.2020 | NaN"
      ]
    },
    {
      "cell_type": "code",
      "metadata": {
        "id": "y39pOtGaJYyL"
      },
      "source": [
        "# <YOUR_CODE_HERE>"
      ],
      "execution_count": null,
      "outputs": []
    },
    {
      "cell_type": "markdown",
      "metadata": {
        "id": "wJpKlNtb5hro"
      },
      "source": [
        "### **Задание №2**. Пусть клиенты обладают рядом статусов, закодированных цифрами: 0 - \"улица\", 1 - \"зарплатник\", 2 - \"премиум\", 3 - \"пенсионер\", 4 - \"студент\". У нас есть матрица с логами смен статусов за некоторый период, разверните ее в матрицу статус - статус с частотами перехода между ними.\n",
        "\n",
        "Пример, как было:\n",
        "\n",
        "client_id | prev_segment | new_segment|\n",
        "--- | --- | ---\n",
        "1 | 0 | 1\n",
        "2 | 0 | 2\n",
        "3 | 4 | 3\n",
        "\n",
        "Пример, как нужно:\n",
        "\n",
        "segment |0 | 1 | 2 | 3 | 4 \n",
        "--- | --- | --- | --- | --- | ---\n",
        "0 | 0 | 0.5 | 0.5 | 0 | 0 \n",
        "1 | 0 |0 | 0 | 0 | 0\n",
        "2 | 0 | 0 | 0 | 0 | 0\n",
        "3 | 0 | 0 | 0 | 0 | 0\n",
        "4 | 0 | 0 | 0 | 1 | 0\n",
        "\n",
        "В процессе выполнения задания разрешается пользоваться библиотеками numpy и pandas."
      ]
    },
    {
      "cell_type": "code",
      "metadata": {
        "id": "6Go_dImd5hEt",
        "colab": {
          "base_uri": "https://localhost:8080/"
        },
        "outputId": "1e0c72f7-511c-4225-85ac-0ad51dccbd36"
      },
      "source": [
        "import numpy as np\n",
        "import pandas as pd\n",
        "\n",
        "# Сгенерируем данные для задачи\n",
        "data = pd.DataFrame(\n",
        "    np.random.randint(low=0, high=4, size=(50000000, 2)),\n",
        "    columns=['prev_segment', 'new_segment']\n",
        ")\n",
        "\n",
        "data_new = data.value_counts().reset_index()\n",
        "data_new = pd.pivot_table(data_new, index='prev_segment', columns='new_segment', dropna=False)\n",
        "freq = data_new.apply(lambda x: x / data_new.sum(axis=1)).fillna(0)\n",
        "freq.values"
      ],
      "execution_count": null,
      "outputs": [
        {
          "output_type": "execute_result",
          "data": {
            "text/plain": [
              "array([[0.25000876, 0.25008117, 0.24998236, 0.24992771],\n",
              "       [0.24989853, 0.2499985 , 0.2500592 , 0.25004377],\n",
              "       [0.24998742, 0.24985248, 0.25022747, 0.24993263],\n",
              "       [0.24991505, 0.24989521, 0.25004805, 0.25014168]])"
            ]
          },
          "metadata": {},
          "execution_count": 182
        }
      ]
    },
    {
      "cell_type": "code",
      "source": [
        "data.head()"
      ],
      "metadata": {
        "colab": {
          "base_uri": "https://localhost:8080/",
          "height": 206
        },
        "id": "tOVO_WwW_Gi_",
        "outputId": "53839f6e-6791-4192-8663-812c0295ad00"
      },
      "execution_count": null,
      "outputs": [
        {
          "output_type": "execute_result",
          "data": {
            "text/html": [
              "\n",
              "  <div id=\"df-74a1fc93-a55a-4f6a-b26b-88d2110b97ba\">\n",
              "    <div class=\"colab-df-container\">\n",
              "      <div>\n",
              "<style scoped>\n",
              "    .dataframe tbody tr th:only-of-type {\n",
              "        vertical-align: middle;\n",
              "    }\n",
              "\n",
              "    .dataframe tbody tr th {\n",
              "        vertical-align: top;\n",
              "    }\n",
              "\n",
              "    .dataframe thead th {\n",
              "        text-align: right;\n",
              "    }\n",
              "</style>\n",
              "<table border=\"1\" class=\"dataframe\">\n",
              "  <thead>\n",
              "    <tr style=\"text-align: right;\">\n",
              "      <th></th>\n",
              "      <th>prev_segment</th>\n",
              "      <th>new_segment</th>\n",
              "    </tr>\n",
              "  </thead>\n",
              "  <tbody>\n",
              "    <tr>\n",
              "      <th>0</th>\n",
              "      <td>2</td>\n",
              "      <td>0</td>\n",
              "    </tr>\n",
              "    <tr>\n",
              "      <th>1</th>\n",
              "      <td>0</td>\n",
              "      <td>2</td>\n",
              "    </tr>\n",
              "    <tr>\n",
              "      <th>2</th>\n",
              "      <td>2</td>\n",
              "      <td>0</td>\n",
              "    </tr>\n",
              "    <tr>\n",
              "      <th>3</th>\n",
              "      <td>0</td>\n",
              "      <td>0</td>\n",
              "    </tr>\n",
              "    <tr>\n",
              "      <th>4</th>\n",
              "      <td>1</td>\n",
              "      <td>2</td>\n",
              "    </tr>\n",
              "  </tbody>\n",
              "</table>\n",
              "</div>\n",
              "      <button class=\"colab-df-convert\" onclick=\"convertToInteractive('df-74a1fc93-a55a-4f6a-b26b-88d2110b97ba')\"\n",
              "              title=\"Convert this dataframe to an interactive table.\"\n",
              "              style=\"display:none;\">\n",
              "        \n",
              "  <svg xmlns=\"http://www.w3.org/2000/svg\" height=\"24px\"viewBox=\"0 0 24 24\"\n",
              "       width=\"24px\">\n",
              "    <path d=\"M0 0h24v24H0V0z\" fill=\"none\"/>\n",
              "    <path d=\"M18.56 5.44l.94 2.06.94-2.06 2.06-.94-2.06-.94-.94-2.06-.94 2.06-2.06.94zm-11 1L8.5 8.5l.94-2.06 2.06-.94-2.06-.94L8.5 2.5l-.94 2.06-2.06.94zm10 10l.94 2.06.94-2.06 2.06-.94-2.06-.94-.94-2.06-.94 2.06-2.06.94z\"/><path d=\"M17.41 7.96l-1.37-1.37c-.4-.4-.92-.59-1.43-.59-.52 0-1.04.2-1.43.59L10.3 9.45l-7.72 7.72c-.78.78-.78 2.05 0 2.83L4 21.41c.39.39.9.59 1.41.59.51 0 1.02-.2 1.41-.59l7.78-7.78 2.81-2.81c.8-.78.8-2.07 0-2.86zM5.41 20L4 18.59l7.72-7.72 1.47 1.35L5.41 20z\"/>\n",
              "  </svg>\n",
              "      </button>\n",
              "      \n",
              "  <style>\n",
              "    .colab-df-container {\n",
              "      display:flex;\n",
              "      flex-wrap:wrap;\n",
              "      gap: 12px;\n",
              "    }\n",
              "\n",
              "    .colab-df-convert {\n",
              "      background-color: #E8F0FE;\n",
              "      border: none;\n",
              "      border-radius: 50%;\n",
              "      cursor: pointer;\n",
              "      display: none;\n",
              "      fill: #1967D2;\n",
              "      height: 32px;\n",
              "      padding: 0 0 0 0;\n",
              "      width: 32px;\n",
              "    }\n",
              "\n",
              "    .colab-df-convert:hover {\n",
              "      background-color: #E2EBFA;\n",
              "      box-shadow: 0px 1px 2px rgba(60, 64, 67, 0.3), 0px 1px 3px 1px rgba(60, 64, 67, 0.15);\n",
              "      fill: #174EA6;\n",
              "    }\n",
              "\n",
              "    [theme=dark] .colab-df-convert {\n",
              "      background-color: #3B4455;\n",
              "      fill: #D2E3FC;\n",
              "    }\n",
              "\n",
              "    [theme=dark] .colab-df-convert:hover {\n",
              "      background-color: #434B5C;\n",
              "      box-shadow: 0px 1px 3px 1px rgba(0, 0, 0, 0.15);\n",
              "      filter: drop-shadow(0px 1px 2px rgba(0, 0, 0, 0.3));\n",
              "      fill: #FFFFFF;\n",
              "    }\n",
              "  </style>\n",
              "\n",
              "      <script>\n",
              "        const buttonEl =\n",
              "          document.querySelector('#df-74a1fc93-a55a-4f6a-b26b-88d2110b97ba button.colab-df-convert');\n",
              "        buttonEl.style.display =\n",
              "          google.colab.kernel.accessAllowed ? 'block' : 'none';\n",
              "\n",
              "        async function convertToInteractive(key) {\n",
              "          const element = document.querySelector('#df-74a1fc93-a55a-4f6a-b26b-88d2110b97ba');\n",
              "          const dataTable =\n",
              "            await google.colab.kernel.invokeFunction('convertToInteractive',\n",
              "                                                     [key], {});\n",
              "          if (!dataTable) return;\n",
              "\n",
              "          const docLinkHtml = 'Like what you see? Visit the ' +\n",
              "            '<a target=\"_blank\" href=https://colab.research.google.com/notebooks/data_table.ipynb>data table notebook</a>'\n",
              "            + ' to learn more about interactive tables.';\n",
              "          element.innerHTML = '';\n",
              "          dataTable['output_type'] = 'display_data';\n",
              "          await google.colab.output.renderOutput(dataTable, element);\n",
              "          const docLink = document.createElement('div');\n",
              "          docLink.innerHTML = docLinkHtml;\n",
              "          element.appendChild(docLink);\n",
              "        }\n",
              "      </script>\n",
              "    </div>\n",
              "  </div>\n",
              "  "
            ],
            "text/plain": [
              "   prev_segment  new_segment\n",
              "0             2            0\n",
              "1             0            2\n",
              "2             2            0\n",
              "3             0            0\n",
              "4             1            2"
            ]
          },
          "metadata": {},
          "execution_count": 51
        }
      ]
    },
    {
      "cell_type": "code",
      "source": [
        "data.prev_segment.unique()"
      ],
      "metadata": {
        "colab": {
          "base_uri": "https://localhost:8080/"
        },
        "id": "paWrcFQpHA4P",
        "outputId": "8b003fcc-e816-4733-88d3-60a82508ee46"
      },
      "execution_count": null,
      "outputs": [
        {
          "output_type": "execute_result",
          "data": {
            "text/plain": [
              "array([2, 0, 1, 3])"
            ]
          },
          "metadata": {},
          "execution_count": 52
        }
      ]
    },
    {
      "cell_type": "code",
      "source": [
        "data.new_segment.unique()"
      ],
      "metadata": {
        "colab": {
          "base_uri": "https://localhost:8080/"
        },
        "id": "DjYqyuBNHF7d",
        "outputId": "6975f0e5-c48d-400c-af02-0f85ed9eec57"
      },
      "execution_count": null,
      "outputs": [
        {
          "output_type": "execute_result",
          "data": {
            "text/plain": [
              "array([0, 2, 1, 3])"
            ]
          },
          "metadata": {},
          "execution_count": 53
        }
      ]
    },
    {
      "cell_type": "markdown",
      "source": [
        "Судя по тому, что уникальные значения от 0 до 3, верхнюю границу при определении DataFrame нужно увелисить на 1. Но я этого не делал, задание выполнено с начальным условием, при изменении верхней границы, код так же работает."
      ],
      "metadata": {
        "id": "VmwnN-mskvls"
      }
    },
    {
      "cell_type": "markdown",
      "source": [
        "Считаем, какое количество различных переходов присутствует в таблице. Код не учитывает того, что могут отстутвовать какие-либо пары переходов. При таком размере матрицы (50000000, 2) это почти невозможно."
      ],
      "metadata": {
        "id": "6E09nVpMlHKM"
      }
    },
    {
      "cell_type": "code",
      "source": [
        "data_new = data.value_counts().reset_index()"
      ],
      "metadata": {
        "id": "3J3klw0eCDyY"
      },
      "execution_count": null,
      "outputs": []
    },
    {
      "cell_type": "code",
      "source": [
        "data_new.head()"
      ],
      "metadata": {
        "colab": {
          "base_uri": "https://localhost:8080/",
          "height": 206
        },
        "id": "Ep3V6G7eGvn2",
        "outputId": "34c54470-2665-48e8-fea6-b454fe3fe95b"
      },
      "execution_count": null,
      "outputs": [
        {
          "output_type": "execute_result",
          "data": {
            "text/html": [
              "\n",
              "  <div id=\"df-56cc7bf5-4bea-49e3-aff6-6e32fe5098b4\">\n",
              "    <div class=\"colab-df-container\">\n",
              "      <div>\n",
              "<style scoped>\n",
              "    .dataframe tbody tr th:only-of-type {\n",
              "        vertical-align: middle;\n",
              "    }\n",
              "\n",
              "    .dataframe tbody tr th {\n",
              "        vertical-align: top;\n",
              "    }\n",
              "\n",
              "    .dataframe thead th {\n",
              "        text-align: right;\n",
              "    }\n",
              "</style>\n",
              "<table border=\"1\" class=\"dataframe\">\n",
              "  <thead>\n",
              "    <tr style=\"text-align: right;\">\n",
              "      <th></th>\n",
              "      <th>prev_segment</th>\n",
              "      <th>new_segment</th>\n",
              "      <th>0</th>\n",
              "    </tr>\n",
              "  </thead>\n",
              "  <tbody>\n",
              "    <tr>\n",
              "      <th>0</th>\n",
              "      <td>1</td>\n",
              "      <td>1</td>\n",
              "      <td>3129528</td>\n",
              "    </tr>\n",
              "    <tr>\n",
              "      <th>1</th>\n",
              "      <td>1</td>\n",
              "      <td>0</td>\n",
              "      <td>3127423</td>\n",
              "    </tr>\n",
              "    <tr>\n",
              "      <th>2</th>\n",
              "      <td>2</td>\n",
              "      <td>3</td>\n",
              "      <td>3126457</td>\n",
              "    </tr>\n",
              "    <tr>\n",
              "      <th>3</th>\n",
              "      <td>2</td>\n",
              "      <td>0</td>\n",
              "      <td>3126403</td>\n",
              "    </tr>\n",
              "    <tr>\n",
              "      <th>4</th>\n",
              "      <td>0</td>\n",
              "      <td>1</td>\n",
              "      <td>3125956</td>\n",
              "    </tr>\n",
              "  </tbody>\n",
              "</table>\n",
              "</div>\n",
              "      <button class=\"colab-df-convert\" onclick=\"convertToInteractive('df-56cc7bf5-4bea-49e3-aff6-6e32fe5098b4')\"\n",
              "              title=\"Convert this dataframe to an interactive table.\"\n",
              "              style=\"display:none;\">\n",
              "        \n",
              "  <svg xmlns=\"http://www.w3.org/2000/svg\" height=\"24px\"viewBox=\"0 0 24 24\"\n",
              "       width=\"24px\">\n",
              "    <path d=\"M0 0h24v24H0V0z\" fill=\"none\"/>\n",
              "    <path d=\"M18.56 5.44l.94 2.06.94-2.06 2.06-.94-2.06-.94-.94-2.06-.94 2.06-2.06.94zm-11 1L8.5 8.5l.94-2.06 2.06-.94-2.06-.94L8.5 2.5l-.94 2.06-2.06.94zm10 10l.94 2.06.94-2.06 2.06-.94-2.06-.94-.94-2.06-.94 2.06-2.06.94z\"/><path d=\"M17.41 7.96l-1.37-1.37c-.4-.4-.92-.59-1.43-.59-.52 0-1.04.2-1.43.59L10.3 9.45l-7.72 7.72c-.78.78-.78 2.05 0 2.83L4 21.41c.39.39.9.59 1.41.59.51 0 1.02-.2 1.41-.59l7.78-7.78 2.81-2.81c.8-.78.8-2.07 0-2.86zM5.41 20L4 18.59l7.72-7.72 1.47 1.35L5.41 20z\"/>\n",
              "  </svg>\n",
              "      </button>\n",
              "      \n",
              "  <style>\n",
              "    .colab-df-container {\n",
              "      display:flex;\n",
              "      flex-wrap:wrap;\n",
              "      gap: 12px;\n",
              "    }\n",
              "\n",
              "    .colab-df-convert {\n",
              "      background-color: #E8F0FE;\n",
              "      border: none;\n",
              "      border-radius: 50%;\n",
              "      cursor: pointer;\n",
              "      display: none;\n",
              "      fill: #1967D2;\n",
              "      height: 32px;\n",
              "      padding: 0 0 0 0;\n",
              "      width: 32px;\n",
              "    }\n",
              "\n",
              "    .colab-df-convert:hover {\n",
              "      background-color: #E2EBFA;\n",
              "      box-shadow: 0px 1px 2px rgba(60, 64, 67, 0.3), 0px 1px 3px 1px rgba(60, 64, 67, 0.15);\n",
              "      fill: #174EA6;\n",
              "    }\n",
              "\n",
              "    [theme=dark] .colab-df-convert {\n",
              "      background-color: #3B4455;\n",
              "      fill: #D2E3FC;\n",
              "    }\n",
              "\n",
              "    [theme=dark] .colab-df-convert:hover {\n",
              "      background-color: #434B5C;\n",
              "      box-shadow: 0px 1px 3px 1px rgba(0, 0, 0, 0.15);\n",
              "      filter: drop-shadow(0px 1px 2px rgba(0, 0, 0, 0.3));\n",
              "      fill: #FFFFFF;\n",
              "    }\n",
              "  </style>\n",
              "\n",
              "      <script>\n",
              "        const buttonEl =\n",
              "          document.querySelector('#df-56cc7bf5-4bea-49e3-aff6-6e32fe5098b4 button.colab-df-convert');\n",
              "        buttonEl.style.display =\n",
              "          google.colab.kernel.accessAllowed ? 'block' : 'none';\n",
              "\n",
              "        async function convertToInteractive(key) {\n",
              "          const element = document.querySelector('#df-56cc7bf5-4bea-49e3-aff6-6e32fe5098b4');\n",
              "          const dataTable =\n",
              "            await google.colab.kernel.invokeFunction('convertToInteractive',\n",
              "                                                     [key], {});\n",
              "          if (!dataTable) return;\n",
              "\n",
              "          const docLinkHtml = 'Like what you see? Visit the ' +\n",
              "            '<a target=\"_blank\" href=https://colab.research.google.com/notebooks/data_table.ipynb>data table notebook</a>'\n",
              "            + ' to learn more about interactive tables.';\n",
              "          element.innerHTML = '';\n",
              "          dataTable['output_type'] = 'display_data';\n",
              "          await google.colab.output.renderOutput(dataTable, element);\n",
              "          const docLink = document.createElement('div');\n",
              "          docLink.innerHTML = docLinkHtml;\n",
              "          element.appendChild(docLink);\n",
              "        }\n",
              "      </script>\n",
              "    </div>\n",
              "  </div>\n",
              "  "
            ],
            "text/plain": [
              "   prev_segment  new_segment        0\n",
              "0             1            1  3129528\n",
              "1             1            0  3127423\n",
              "2             2            3  3126457\n",
              "3             2            0  3126403\n",
              "4             0            1  3125956"
            ]
          },
          "metadata": {},
          "execution_count": 175
        }
      ]
    },
    {
      "cell_type": "markdown",
      "source": [
        "Создаем сводную таблицу pivot_table.\n",
        "\n",
        "В таблице указано количество каждого перехода."
      ],
      "metadata": {
        "id": "0v2Yrpd7lu8U"
      }
    },
    {
      "cell_type": "code",
      "source": [
        "data_new = pd.pivot_table(data_new, index='prev_segment', columns='new_segment', dropna=False)"
      ],
      "metadata": {
        "id": "IIjqO8t6FBEM"
      },
      "execution_count": null,
      "outputs": []
    },
    {
      "cell_type": "code",
      "source": [
        "data_new.head()"
      ],
      "metadata": {
        "colab": {
          "base_uri": "https://localhost:8080/",
          "height": 206
        },
        "id": "KafPi0vbjoNr",
        "outputId": "8bad4834-5565-4155-ad02-c1eae4422ade"
      },
      "execution_count": null,
      "outputs": [
        {
          "output_type": "execute_result",
          "data": {
            "text/html": [
              "\n",
              "  <div id=\"df-e641615b-e2b0-4da3-843a-956d810384d2\">\n",
              "    <div class=\"colab-df-container\">\n",
              "      <div>\n",
              "<style scoped>\n",
              "    .dataframe tbody tr th:only-of-type {\n",
              "        vertical-align: middle;\n",
              "    }\n",
              "\n",
              "    .dataframe tbody tr th {\n",
              "        vertical-align: top;\n",
              "    }\n",
              "\n",
              "    .dataframe thead tr th {\n",
              "        text-align: left;\n",
              "    }\n",
              "</style>\n",
              "<table border=\"1\" class=\"dataframe\">\n",
              "  <thead>\n",
              "    <tr>\n",
              "      <th></th>\n",
              "      <th colspan=\"4\" halign=\"left\">0</th>\n",
              "    </tr>\n",
              "    <tr>\n",
              "      <th>new_segment</th>\n",
              "      <th>0</th>\n",
              "      <th>1</th>\n",
              "      <th>2</th>\n",
              "      <th>3</th>\n",
              "    </tr>\n",
              "  </thead>\n",
              "  <tbody>\n",
              "    <tr>\n",
              "      <th>0</th>\n",
              "      <td>3123976</td>\n",
              "      <td>3125956</td>\n",
              "      <td>3124936</td>\n",
              "      <td>3122391</td>\n",
              "    </tr>\n",
              "    <tr>\n",
              "      <th>1</th>\n",
              "      <td>3127423</td>\n",
              "      <td>3129528</td>\n",
              "      <td>3125078</td>\n",
              "      <td>3125308</td>\n",
              "    </tr>\n",
              "    <tr>\n",
              "      <th>2</th>\n",
              "      <td>3126403</td>\n",
              "      <td>3124920</td>\n",
              "      <td>3123802</td>\n",
              "      <td>3126457</td>\n",
              "    </tr>\n",
              "    <tr>\n",
              "      <th>3</th>\n",
              "      <td>3123822</td>\n",
              "      <td>3124001</td>\n",
              "      <td>3122102</td>\n",
              "      <td>3123897</td>\n",
              "    </tr>\n",
              "  </tbody>\n",
              "</table>\n",
              "</div>\n",
              "      <button class=\"colab-df-convert\" onclick=\"convertToInteractive('df-e641615b-e2b0-4da3-843a-956d810384d2')\"\n",
              "              title=\"Convert this dataframe to an interactive table.\"\n",
              "              style=\"display:none;\">\n",
              "        \n",
              "  <svg xmlns=\"http://www.w3.org/2000/svg\" height=\"24px\"viewBox=\"0 0 24 24\"\n",
              "       width=\"24px\">\n",
              "    <path d=\"M0 0h24v24H0V0z\" fill=\"none\"/>\n",
              "    <path d=\"M18.56 5.44l.94 2.06.94-2.06 2.06-.94-2.06-.94-.94-2.06-.94 2.06-2.06.94zm-11 1L8.5 8.5l.94-2.06 2.06-.94-2.06-.94L8.5 2.5l-.94 2.06-2.06.94zm10 10l.94 2.06.94-2.06 2.06-.94-2.06-.94-.94-2.06-.94 2.06-2.06.94z\"/><path d=\"M17.41 7.96l-1.37-1.37c-.4-.4-.92-.59-1.43-.59-.52 0-1.04.2-1.43.59L10.3 9.45l-7.72 7.72c-.78.78-.78 2.05 0 2.83L4 21.41c.39.39.9.59 1.41.59.51 0 1.02-.2 1.41-.59l7.78-7.78 2.81-2.81c.8-.78.8-2.07 0-2.86zM5.41 20L4 18.59l7.72-7.72 1.47 1.35L5.41 20z\"/>\n",
              "  </svg>\n",
              "      </button>\n",
              "      \n",
              "  <style>\n",
              "    .colab-df-container {\n",
              "      display:flex;\n",
              "      flex-wrap:wrap;\n",
              "      gap: 12px;\n",
              "    }\n",
              "\n",
              "    .colab-df-convert {\n",
              "      background-color: #E8F0FE;\n",
              "      border: none;\n",
              "      border-radius: 50%;\n",
              "      cursor: pointer;\n",
              "      display: none;\n",
              "      fill: #1967D2;\n",
              "      height: 32px;\n",
              "      padding: 0 0 0 0;\n",
              "      width: 32px;\n",
              "    }\n",
              "\n",
              "    .colab-df-convert:hover {\n",
              "      background-color: #E2EBFA;\n",
              "      box-shadow: 0px 1px 2px rgba(60, 64, 67, 0.3), 0px 1px 3px 1px rgba(60, 64, 67, 0.15);\n",
              "      fill: #174EA6;\n",
              "    }\n",
              "\n",
              "    [theme=dark] .colab-df-convert {\n",
              "      background-color: #3B4455;\n",
              "      fill: #D2E3FC;\n",
              "    }\n",
              "\n",
              "    [theme=dark] .colab-df-convert:hover {\n",
              "      background-color: #434B5C;\n",
              "      box-shadow: 0px 1px 3px 1px rgba(0, 0, 0, 0.15);\n",
              "      filter: drop-shadow(0px 1px 2px rgba(0, 0, 0, 0.3));\n",
              "      fill: #FFFFFF;\n",
              "    }\n",
              "  </style>\n",
              "\n",
              "      <script>\n",
              "        const buttonEl =\n",
              "          document.querySelector('#df-e641615b-e2b0-4da3-843a-956d810384d2 button.colab-df-convert');\n",
              "        buttonEl.style.display =\n",
              "          google.colab.kernel.accessAllowed ? 'block' : 'none';\n",
              "\n",
              "        async function convertToInteractive(key) {\n",
              "          const element = document.querySelector('#df-e641615b-e2b0-4da3-843a-956d810384d2');\n",
              "          const dataTable =\n",
              "            await google.colab.kernel.invokeFunction('convertToInteractive',\n",
              "                                                     [key], {});\n",
              "          if (!dataTable) return;\n",
              "\n",
              "          const docLinkHtml = 'Like what you see? Visit the ' +\n",
              "            '<a target=\"_blank\" href=https://colab.research.google.com/notebooks/data_table.ipynb>data table notebook</a>'\n",
              "            + ' to learn more about interactive tables.';\n",
              "          element.innerHTML = '';\n",
              "          dataTable['output_type'] = 'display_data';\n",
              "          await google.colab.output.renderOutput(dataTable, element);\n",
              "          const docLink = document.createElement('div');\n",
              "          docLink.innerHTML = docLinkHtml;\n",
              "          element.appendChild(docLink);\n",
              "        }\n",
              "      </script>\n",
              "    </div>\n",
              "  </div>\n",
              "  "
            ],
            "text/plain": [
              "                   0                           \n",
              "new_segment        0        1        2        3\n",
              "0            3123976  3125956  3124936  3122391\n",
              "1            3127423  3129528  3125078  3125308\n",
              "2            3126403  3124920  3123802  3126457\n",
              "3            3123822  3124001  3122102  3123897"
            ]
          },
          "metadata": {},
          "execution_count": 177
        }
      ]
    },
    {
      "cell_type": "markdown",
      "source": [
        "Создаем DataFrame с относительными частотами переходов.\n",
        "\n",
        "Для этого используем функцию apply, которой передаем lambda функцию."
      ],
      "metadata": {
        "id": "NkASP_4-mDFx"
      }
    },
    {
      "cell_type": "code",
      "source": [
        "freq = data_new.apply(lambda x: x / data_new.sum(axis=1)).fillna(0)"
      ],
      "metadata": {
        "id": "0ruKOB9_joHn"
      },
      "execution_count": null,
      "outputs": []
    },
    {
      "cell_type": "code",
      "source": [
        "freq.values"
      ],
      "metadata": {
        "colab": {
          "base_uri": "https://localhost:8080/"
        },
        "id": "VALjOfKSjoBO",
        "outputId": "84b0c0be-eb6d-4cb4-eb50-9a20a35248da"
      },
      "execution_count": null,
      "outputs": [
        {
          "output_type": "execute_result",
          "data": {
            "text/plain": [
              "array([[0.24997289, 0.25013133, 0.25004971, 0.24984607],\n",
              "       [0.25004707, 0.25021537, 0.24985958, 0.24987797],\n",
              "       [0.25008059, 0.24996196, 0.24987254, 0.25008491],\n",
              "       [0.25002933, 0.25004366, 0.24989167, 0.25003534]])"
            ]
          },
          "metadata": {},
          "execution_count": 179
        }
      ]
    },
    {
      "cell_type": "markdown",
      "metadata": {
        "id": "zr6Y-GmXNXMm"
      },
      "source": [
        "### **Задание №2.1 (*)**. Если вы не пользовались библиотечными функциями и реализовывали алгоритм самостоятельно, напишите, пожалуйста, его асимптотическую сложность в терминах O-большое."
      ]
    },
    {
      "cell_type": "markdown",
      "source": [
        "Асимптотическая сложность алгоритма определяется как $O(n^x)$, где $х$ - сложность самой медленной конструкции, $n$ - количество итераций самой медленной конструкции. Например для одного цикла $x = 1$, для цикла в цикле $x = 2$ и тд.\n",
        "\n",
        "В моей программе самая сложная конструкция это цикл в цикле и количество итераций в ней 50000000. Соответственно, $O(n^x) = 50000000^2$."
      ],
      "metadata": {
        "id": "hMx4tdWnb_Xi"
      }
    },
    {
      "cell_type": "code",
      "metadata": {
        "id": "xRKXcJz8NWGF"
      },
      "source": [
        "import numpy as np\n",
        "import pandas as pd\n",
        "\n",
        "# Сгенерируем данные для задачи\n",
        "data = pd.DataFrame(\n",
        "    np.random.randint(low=0, high=4, size=(50000000, 2)),\n",
        "    columns=['prev_segment', 'new_segment']\n",
        ")"
      ],
      "execution_count": null,
      "outputs": []
    },
    {
      "cell_type": "markdown",
      "source": [
        "Считываем матрицу."
      ],
      "metadata": {
        "id": "kQWAh5XUjcc5"
      }
    },
    {
      "cell_type": "code",
      "source": [
        "df = data.values"
      ],
      "metadata": {
        "id": "7Hbz9arMEiBC"
      },
      "execution_count": null,
      "outputs": []
    },
    {
      "cell_type": "markdown",
      "source": [
        "Создаем одномерный массив всех переходов в строковом формате."
      ],
      "metadata": {
        "id": "vkUUXX_Zjeu0"
      }
    },
    {
      "cell_type": "code",
      "source": [
        "all = []\n",
        "for i in df:\n",
        "  s = ''\n",
        "  for j in i:\n",
        "    s += str(j)\n",
        "  all.append(s)"
      ],
      "metadata": {
        "id": "Ajo9q4U4EnbN"
      },
      "execution_count": null,
      "outputs": []
    },
    {
      "cell_type": "code",
      "source": [
        "Создаем словарь с количеством переходов."
      ],
      "metadata": {
        "id": "N3zn7M_sjnJ8"
      },
      "execution_count": null,
      "outputs": []
    },
    {
      "cell_type": "code",
      "source": [
        "d = {}\n",
        "for i in set(all):\n",
        "  if i not in d.keys():\n",
        "    d[i] = all.count(i)"
      ],
      "metadata": {
        "id": "Ypxi9cb-Fxhk"
      },
      "execution_count": null,
      "outputs": []
    },
    {
      "cell_type": "markdown",
      "source": [
        "Создаем матрицу нулей для заполнения."
      ],
      "metadata": {
        "id": "DGovgL3Aj5dd"
      }
    },
    {
      "cell_type": "code",
      "source": [
        "result = []\n",
        "for i in range(int(len(set(all)) / 4)):\n",
        "  row = []\n",
        "  for j in range(int(len(set(all)) / 4)):\n",
        "    row.append(0)\n",
        "  result.append(row)\n",
        "result"
      ],
      "metadata": {
        "id": "iNsL8Vv0FxMr",
        "outputId": "7c98f998-13ff-4a62-e453-745ca5e112b3",
        "colab": {
          "base_uri": "https://localhost:8080/"
        }
      },
      "execution_count": null,
      "outputs": [
        {
          "output_type": "execute_result",
          "data": {
            "text/plain": [
              "[[0, 0, 0, 0], [0, 0, 0, 0], [0, 0, 0, 0], [0, 0, 0, 0]]"
            ]
          },
          "metadata": {},
          "execution_count": 94
        }
      ]
    },
    {
      "cell_type": "markdown",
      "source": [
        "Заполняем матрицу количеством соответствующих переходов."
      ],
      "metadata": {
        "id": "zBgPWCwEkFvY"
      }
    },
    {
      "cell_type": "code",
      "source": [
        "for key in sorted(d.keys()):\n",
        "  row, col = [int(i) for i in list(key)]\n",
        "  result[row][col] = d[key]\n",
        "for row in result:\n",
        "  print(row)"
      ],
      "metadata": {
        "id": "hMoonW0WMxRq",
        "outputId": "5a1ef639-8853-480f-dfb5-23fa6c407b67",
        "colab": {
          "base_uri": "https://localhost:8080/"
        }
      },
      "execution_count": null,
      "outputs": [
        {
          "output_type": "stream",
          "name": "stdout",
          "text": [
            "[3126962, 3129628, 3121833, 3126381]\n",
            "[3126784, 3125969, 3122747, 3126380]\n",
            "[3124033, 3120907, 3122975, 3120985]\n",
            "[3125814, 3125901, 3127288, 3125413]\n"
          ]
        }
      ]
    },
    {
      "cell_type": "markdown",
      "source": [
        "Делим каждое значение на самму значений в соответствующей строке и получаем матрицу относительных частот."
      ],
      "metadata": {
        "id": "Jrbcc3DkkTSf"
      }
    },
    {
      "cell_type": "code",
      "source": [
        "for row in range(len(result)):\n",
        "  ddel = sum(result[row])\n",
        "  for col in range(len(result)):\n",
        "    result[row][col] = result[row][col] / ddel"
      ],
      "metadata": {
        "id": "Ab7KFuItRIOI"
      },
      "execution_count": null,
      "outputs": []
    },
    {
      "cell_type": "markdown",
      "source": [
        "Выводим матрицу."
      ],
      "metadata": {
        "id": "WZIqsWfVkVhK"
      }
    },
    {
      "cell_type": "code",
      "source": [
        "for row in result:\n",
        "  print(row)"
      ],
      "metadata": {
        "id": "yeSQNsl4SCMR",
        "outputId": "26521c1b-2185-4367-e758-827bc71a3ded",
        "colab": {
          "base_uri": "https://localhost:8080/"
        }
      },
      "execution_count": null,
      "outputs": [
        {
          "output_type": "stream",
          "name": "stdout",
          "text": [
            "[0.25006085661158706, 0.25027405467530717, 0.24965069424518768, 0.25001439446791807]\n",
            "[0.25010510419232945, 0.25003991399693487, 0.24978219275820918, 0.2500727890525265]\n",
            "[0.25014476855447637, 0.24989446628606202, 0.2500600533273547, 0.2499007118321069]\n",
            "[0.2499768081932015, 0.24998376573524106, 0.2500946865491359, 0.24994473952242152]\n"
          ]
        }
      ]
    },
    {
      "cell_type": "markdown",
      "metadata": {
        "id": "PCmozMhqNoys"
      },
      "source": [
        "### **Задание №3**. Постройте прогнозую модель для датасета с UCI Machine Learning: предобработайте категориальные фичи, отберите их, соберите схему валидации и отберите модели с помощью нее. Описание датасета по ссылке: https://archive.ics.uci.edu/ml/datasets/Drug+consumption+%28quantified%29\n",
        "\n",
        "Данная задача multilabel multiclass classification, поэтому предлагаю начать с одного из подходов:\n",
        "- Свести задачу к multilabel binary classification, как это указано в описании к датасету;\n",
        "- Свести задачку к binary classification тем или иным способом;\n",
        "- Обучить множество multiclass/binary classification моделей;\n",
        "- Что-то еще, что придет в голову.\n"
      ]
    },
    {
      "cell_type": "code",
      "metadata": {
        "colab": {
          "base_uri": "https://localhost:8080/"
        },
        "id": "99wiNQQ5Nn2U",
        "outputId": "49c48ac8-c6e0-485a-fb9f-78b32ebdfd5b"
      },
      "source": [
        "!wget https://archive.ics.uci.edu/ml/machine-learning-databases/00373/drug_consumption.data"
      ],
      "execution_count": null,
      "outputs": [
        {
          "output_type": "stream",
          "name": "stdout",
          "text": [
            "--2022-01-18 17:24:20--  https://archive.ics.uci.edu/ml/machine-learning-databases/00373/drug_consumption.data\n",
            "Resolving archive.ics.uci.edu (archive.ics.uci.edu)... 128.195.10.252\n",
            "Connecting to archive.ics.uci.edu (archive.ics.uci.edu)|128.195.10.252|:443... connected.\n",
            "HTTP request sent, awaiting response... 200 OK\n",
            "Length: 346695 (339K) [application/x-httpd-php]\n",
            "Saving to: ‘drug_consumption.data’\n",
            "\n",
            "drug_consumption.da 100%[===================>] 338.57K  1.35MB/s    in 0.2s    \n",
            "\n",
            "2022-01-18 17:24:21 (1.35 MB/s) - ‘drug_consumption.data’ saved [346695/346695]\n",
            "\n"
          ]
        }
      ]
    },
    {
      "cell_type": "code",
      "metadata": {
        "colab": {
          "base_uri": "https://localhost:8080/",
          "height": 302
        },
        "id": "lOsvJKfbNRN4",
        "outputId": "15e3e5cf-c4b6-458f-b59b-d95c95fd30ca"
      },
      "source": [
        "import numpy as np\n",
        "import pandas as pd\n",
        "\n",
        "data = pd.read_csv('drug_consumption.data', header=None, index_col=0)\n",
        "data.head()"
      ],
      "execution_count": null,
      "outputs": [
        {
          "output_type": "execute_result",
          "data": {
            "text/html": [
              "\n",
              "  <div id=\"df-03912f2b-99e7-40cd-b777-2f34bb2bcc43\">\n",
              "    <div class=\"colab-df-container\">\n",
              "      <div>\n",
              "<style scoped>\n",
              "    .dataframe tbody tr th:only-of-type {\n",
              "        vertical-align: middle;\n",
              "    }\n",
              "\n",
              "    .dataframe tbody tr th {\n",
              "        vertical-align: top;\n",
              "    }\n",
              "\n",
              "    .dataframe thead th {\n",
              "        text-align: right;\n",
              "    }\n",
              "</style>\n",
              "<table border=\"1\" class=\"dataframe\">\n",
              "  <thead>\n",
              "    <tr style=\"text-align: right;\">\n",
              "      <th></th>\n",
              "      <th>1</th>\n",
              "      <th>2</th>\n",
              "      <th>3</th>\n",
              "      <th>4</th>\n",
              "      <th>5</th>\n",
              "      <th>6</th>\n",
              "      <th>7</th>\n",
              "      <th>8</th>\n",
              "      <th>9</th>\n",
              "      <th>10</th>\n",
              "      <th>11</th>\n",
              "      <th>12</th>\n",
              "      <th>13</th>\n",
              "      <th>14</th>\n",
              "      <th>15</th>\n",
              "      <th>16</th>\n",
              "      <th>17</th>\n",
              "      <th>18</th>\n",
              "      <th>19</th>\n",
              "      <th>20</th>\n",
              "      <th>21</th>\n",
              "      <th>22</th>\n",
              "      <th>23</th>\n",
              "      <th>24</th>\n",
              "      <th>25</th>\n",
              "      <th>26</th>\n",
              "      <th>27</th>\n",
              "      <th>28</th>\n",
              "      <th>29</th>\n",
              "      <th>30</th>\n",
              "      <th>31</th>\n",
              "    </tr>\n",
              "    <tr>\n",
              "      <th>0</th>\n",
              "      <th></th>\n",
              "      <th></th>\n",
              "      <th></th>\n",
              "      <th></th>\n",
              "      <th></th>\n",
              "      <th></th>\n",
              "      <th></th>\n",
              "      <th></th>\n",
              "      <th></th>\n",
              "      <th></th>\n",
              "      <th></th>\n",
              "      <th></th>\n",
              "      <th></th>\n",
              "      <th></th>\n",
              "      <th></th>\n",
              "      <th></th>\n",
              "      <th></th>\n",
              "      <th></th>\n",
              "      <th></th>\n",
              "      <th></th>\n",
              "      <th></th>\n",
              "      <th></th>\n",
              "      <th></th>\n",
              "      <th></th>\n",
              "      <th></th>\n",
              "      <th></th>\n",
              "      <th></th>\n",
              "      <th></th>\n",
              "      <th></th>\n",
              "      <th></th>\n",
              "      <th></th>\n",
              "    </tr>\n",
              "  </thead>\n",
              "  <tbody>\n",
              "    <tr>\n",
              "      <th>1</th>\n",
              "      <td>0.49788</td>\n",
              "      <td>0.48246</td>\n",
              "      <td>-0.05921</td>\n",
              "      <td>0.96082</td>\n",
              "      <td>0.12600</td>\n",
              "      <td>0.31287</td>\n",
              "      <td>-0.57545</td>\n",
              "      <td>-0.58331</td>\n",
              "      <td>-0.91699</td>\n",
              "      <td>-0.00665</td>\n",
              "      <td>-0.21712</td>\n",
              "      <td>-1.18084</td>\n",
              "      <td>CL5</td>\n",
              "      <td>CL2</td>\n",
              "      <td>CL0</td>\n",
              "      <td>CL2</td>\n",
              "      <td>CL6</td>\n",
              "      <td>CL0</td>\n",
              "      <td>CL5</td>\n",
              "      <td>CL0</td>\n",
              "      <td>CL0</td>\n",
              "      <td>CL0</td>\n",
              "      <td>CL0</td>\n",
              "      <td>CL0</td>\n",
              "      <td>CL0</td>\n",
              "      <td>CL0</td>\n",
              "      <td>CL0</td>\n",
              "      <td>CL0</td>\n",
              "      <td>CL2</td>\n",
              "      <td>CL0</td>\n",
              "      <td>CL0</td>\n",
              "    </tr>\n",
              "    <tr>\n",
              "      <th>2</th>\n",
              "      <td>-0.07854</td>\n",
              "      <td>-0.48246</td>\n",
              "      <td>1.98437</td>\n",
              "      <td>0.96082</td>\n",
              "      <td>-0.31685</td>\n",
              "      <td>-0.67825</td>\n",
              "      <td>1.93886</td>\n",
              "      <td>1.43533</td>\n",
              "      <td>0.76096</td>\n",
              "      <td>-0.14277</td>\n",
              "      <td>-0.71126</td>\n",
              "      <td>-0.21575</td>\n",
              "      <td>CL5</td>\n",
              "      <td>CL2</td>\n",
              "      <td>CL2</td>\n",
              "      <td>CL0</td>\n",
              "      <td>CL6</td>\n",
              "      <td>CL4</td>\n",
              "      <td>CL6</td>\n",
              "      <td>CL3</td>\n",
              "      <td>CL0</td>\n",
              "      <td>CL4</td>\n",
              "      <td>CL0</td>\n",
              "      <td>CL2</td>\n",
              "      <td>CL0</td>\n",
              "      <td>CL2</td>\n",
              "      <td>CL3</td>\n",
              "      <td>CL0</td>\n",
              "      <td>CL4</td>\n",
              "      <td>CL0</td>\n",
              "      <td>CL0</td>\n",
              "    </tr>\n",
              "    <tr>\n",
              "      <th>3</th>\n",
              "      <td>0.49788</td>\n",
              "      <td>-0.48246</td>\n",
              "      <td>-0.05921</td>\n",
              "      <td>0.96082</td>\n",
              "      <td>-0.31685</td>\n",
              "      <td>-0.46725</td>\n",
              "      <td>0.80523</td>\n",
              "      <td>-0.84732</td>\n",
              "      <td>-1.62090</td>\n",
              "      <td>-1.01450</td>\n",
              "      <td>-1.37983</td>\n",
              "      <td>0.40148</td>\n",
              "      <td>CL6</td>\n",
              "      <td>CL0</td>\n",
              "      <td>CL0</td>\n",
              "      <td>CL0</td>\n",
              "      <td>CL6</td>\n",
              "      <td>CL3</td>\n",
              "      <td>CL4</td>\n",
              "      <td>CL0</td>\n",
              "      <td>CL0</td>\n",
              "      <td>CL0</td>\n",
              "      <td>CL0</td>\n",
              "      <td>CL0</td>\n",
              "      <td>CL0</td>\n",
              "      <td>CL0</td>\n",
              "      <td>CL0</td>\n",
              "      <td>CL1</td>\n",
              "      <td>CL0</td>\n",
              "      <td>CL0</td>\n",
              "      <td>CL0</td>\n",
              "    </tr>\n",
              "    <tr>\n",
              "      <th>4</th>\n",
              "      <td>-0.95197</td>\n",
              "      <td>0.48246</td>\n",
              "      <td>1.16365</td>\n",
              "      <td>0.96082</td>\n",
              "      <td>-0.31685</td>\n",
              "      <td>-0.14882</td>\n",
              "      <td>-0.80615</td>\n",
              "      <td>-0.01928</td>\n",
              "      <td>0.59042</td>\n",
              "      <td>0.58489</td>\n",
              "      <td>-1.37983</td>\n",
              "      <td>-1.18084</td>\n",
              "      <td>CL4</td>\n",
              "      <td>CL0</td>\n",
              "      <td>CL0</td>\n",
              "      <td>CL3</td>\n",
              "      <td>CL5</td>\n",
              "      <td>CL2</td>\n",
              "      <td>CL4</td>\n",
              "      <td>CL2</td>\n",
              "      <td>CL0</td>\n",
              "      <td>CL0</td>\n",
              "      <td>CL0</td>\n",
              "      <td>CL2</td>\n",
              "      <td>CL0</td>\n",
              "      <td>CL0</td>\n",
              "      <td>CL0</td>\n",
              "      <td>CL0</td>\n",
              "      <td>CL2</td>\n",
              "      <td>CL0</td>\n",
              "      <td>CL0</td>\n",
              "    </tr>\n",
              "    <tr>\n",
              "      <th>5</th>\n",
              "      <td>0.49788</td>\n",
              "      <td>0.48246</td>\n",
              "      <td>1.98437</td>\n",
              "      <td>0.96082</td>\n",
              "      <td>-0.31685</td>\n",
              "      <td>0.73545</td>\n",
              "      <td>-1.63340</td>\n",
              "      <td>-0.45174</td>\n",
              "      <td>-0.30172</td>\n",
              "      <td>1.30612</td>\n",
              "      <td>-0.21712</td>\n",
              "      <td>-0.21575</td>\n",
              "      <td>CL4</td>\n",
              "      <td>CL1</td>\n",
              "      <td>CL1</td>\n",
              "      <td>CL0</td>\n",
              "      <td>CL6</td>\n",
              "      <td>CL3</td>\n",
              "      <td>CL6</td>\n",
              "      <td>CL0</td>\n",
              "      <td>CL0</td>\n",
              "      <td>CL1</td>\n",
              "      <td>CL0</td>\n",
              "      <td>CL0</td>\n",
              "      <td>CL1</td>\n",
              "      <td>CL0</td>\n",
              "      <td>CL0</td>\n",
              "      <td>CL2</td>\n",
              "      <td>CL2</td>\n",
              "      <td>CL0</td>\n",
              "      <td>CL0</td>\n",
              "    </tr>\n",
              "  </tbody>\n",
              "</table>\n",
              "</div>\n",
              "      <button class=\"colab-df-convert\" onclick=\"convertToInteractive('df-03912f2b-99e7-40cd-b777-2f34bb2bcc43')\"\n",
              "              title=\"Convert this dataframe to an interactive table.\"\n",
              "              style=\"display:none;\">\n",
              "        \n",
              "  <svg xmlns=\"http://www.w3.org/2000/svg\" height=\"24px\"viewBox=\"0 0 24 24\"\n",
              "       width=\"24px\">\n",
              "    <path d=\"M0 0h24v24H0V0z\" fill=\"none\"/>\n",
              "    <path d=\"M18.56 5.44l.94 2.06.94-2.06 2.06-.94-2.06-.94-.94-2.06-.94 2.06-2.06.94zm-11 1L8.5 8.5l.94-2.06 2.06-.94-2.06-.94L8.5 2.5l-.94 2.06-2.06.94zm10 10l.94 2.06.94-2.06 2.06-.94-2.06-.94-.94-2.06-.94 2.06-2.06.94z\"/><path d=\"M17.41 7.96l-1.37-1.37c-.4-.4-.92-.59-1.43-.59-.52 0-1.04.2-1.43.59L10.3 9.45l-7.72 7.72c-.78.78-.78 2.05 0 2.83L4 21.41c.39.39.9.59 1.41.59.51 0 1.02-.2 1.41-.59l7.78-7.78 2.81-2.81c.8-.78.8-2.07 0-2.86zM5.41 20L4 18.59l7.72-7.72 1.47 1.35L5.41 20z\"/>\n",
              "  </svg>\n",
              "      </button>\n",
              "      \n",
              "  <style>\n",
              "    .colab-df-container {\n",
              "      display:flex;\n",
              "      flex-wrap:wrap;\n",
              "      gap: 12px;\n",
              "    }\n",
              "\n",
              "    .colab-df-convert {\n",
              "      background-color: #E8F0FE;\n",
              "      border: none;\n",
              "      border-radius: 50%;\n",
              "      cursor: pointer;\n",
              "      display: none;\n",
              "      fill: #1967D2;\n",
              "      height: 32px;\n",
              "      padding: 0 0 0 0;\n",
              "      width: 32px;\n",
              "    }\n",
              "\n",
              "    .colab-df-convert:hover {\n",
              "      background-color: #E2EBFA;\n",
              "      box-shadow: 0px 1px 2px rgba(60, 64, 67, 0.3), 0px 1px 3px 1px rgba(60, 64, 67, 0.15);\n",
              "      fill: #174EA6;\n",
              "    }\n",
              "\n",
              "    [theme=dark] .colab-df-convert {\n",
              "      background-color: #3B4455;\n",
              "      fill: #D2E3FC;\n",
              "    }\n",
              "\n",
              "    [theme=dark] .colab-df-convert:hover {\n",
              "      background-color: #434B5C;\n",
              "      box-shadow: 0px 1px 3px 1px rgba(0, 0, 0, 0.15);\n",
              "      filter: drop-shadow(0px 1px 2px rgba(0, 0, 0, 0.3));\n",
              "      fill: #FFFFFF;\n",
              "    }\n",
              "  </style>\n",
              "\n",
              "      <script>\n",
              "        const buttonEl =\n",
              "          document.querySelector('#df-03912f2b-99e7-40cd-b777-2f34bb2bcc43 button.colab-df-convert');\n",
              "        buttonEl.style.display =\n",
              "          google.colab.kernel.accessAllowed ? 'block' : 'none';\n",
              "\n",
              "        async function convertToInteractive(key) {\n",
              "          const element = document.querySelector('#df-03912f2b-99e7-40cd-b777-2f34bb2bcc43');\n",
              "          const dataTable =\n",
              "            await google.colab.kernel.invokeFunction('convertToInteractive',\n",
              "                                                     [key], {});\n",
              "          if (!dataTable) return;\n",
              "\n",
              "          const docLinkHtml = 'Like what you see? Visit the ' +\n",
              "            '<a target=\"_blank\" href=https://colab.research.google.com/notebooks/data_table.ipynb>data table notebook</a>'\n",
              "            + ' to learn more about interactive tables.';\n",
              "          element.innerHTML = '';\n",
              "          dataTable['output_type'] = 'display_data';\n",
              "          await google.colab.output.renderOutput(dataTable, element);\n",
              "          const docLink = document.createElement('div');\n",
              "          docLink.innerHTML = docLinkHtml;\n",
              "          element.appendChild(docLink);\n",
              "        }\n",
              "      </script>\n",
              "    </div>\n",
              "  </div>\n",
              "  "
            ],
            "text/plain": [
              "        1        2        3        4        5   ...   27   28   29   30   31\n",
              "0                                               ...                         \n",
              "1  0.49788  0.48246 -0.05921  0.96082  0.12600  ...  CL0  CL0  CL2  CL0  CL0\n",
              "2 -0.07854 -0.48246  1.98437  0.96082 -0.31685  ...  CL3  CL0  CL4  CL0  CL0\n",
              "3  0.49788 -0.48246 -0.05921  0.96082 -0.31685  ...  CL0  CL1  CL0  CL0  CL0\n",
              "4 -0.95197  0.48246  1.16365  0.96082 -0.31685  ...  CL0  CL0  CL2  CL0  CL0\n",
              "5  0.49788  0.48246  1.98437  0.96082 -0.31685  ...  CL0  CL2  CL2  CL0  CL0\n",
              "\n",
              "[5 rows x 31 columns]"
            ]
          },
          "metadata": {},
          "execution_count": 23
        }
      ]
    },
    {
      "cell_type": "markdown",
      "source": [
        "Импортируем библиотеки."
      ],
      "metadata": {
        "id": "fD_ySK1__TKI"
      }
    },
    {
      "cell_type": "code",
      "metadata": {
        "id": "CJrdKouqQ40G"
      },
      "source": [
        "from sklearn.ensemble import RandomForestClassifier\n",
        "from sklearn.tree import DecisionTreeClassifier\n",
        "from sklearn.model_selection import GridSearchCV, train_test_split\n",
        "from sklearn.multiclass import OneVsRestClassifier\n",
        "from sklearn.metrics import f1_score"
      ],
      "execution_count": null,
      "outputs": []
    },
    {
      "cell_type": "markdown",
      "source": [
        "Посмотрим на матрицу фией и результатов."
      ],
      "metadata": {
        "id": "z6KIW2ou_WHf"
      }
    },
    {
      "cell_type": "code",
      "source": [
        "X = data.drop(range(13, 32), axis=1)"
      ],
      "metadata": {
        "id": "LVIClq_-eafr"
      },
      "execution_count": null,
      "outputs": []
    },
    {
      "cell_type": "code",
      "source": [
        "X.head()"
      ],
      "metadata": {
        "id": "u--PeBXaeadL",
        "outputId": "50cdf7b7-3b23-4fa0-fb2d-34d9de8b2367",
        "colab": {
          "base_uri": "https://localhost:8080/",
          "height": 238
        }
      },
      "execution_count": null,
      "outputs": [
        {
          "output_type": "execute_result",
          "data": {
            "text/html": [
              "\n",
              "  <div id=\"df-a7a31cb4-d85e-4890-b9bb-de07c50cbd28\">\n",
              "    <div class=\"colab-df-container\">\n",
              "      <div>\n",
              "<style scoped>\n",
              "    .dataframe tbody tr th:only-of-type {\n",
              "        vertical-align: middle;\n",
              "    }\n",
              "\n",
              "    .dataframe tbody tr th {\n",
              "        vertical-align: top;\n",
              "    }\n",
              "\n",
              "    .dataframe thead th {\n",
              "        text-align: right;\n",
              "    }\n",
              "</style>\n",
              "<table border=\"1\" class=\"dataframe\">\n",
              "  <thead>\n",
              "    <tr style=\"text-align: right;\">\n",
              "      <th></th>\n",
              "      <th>1</th>\n",
              "      <th>2</th>\n",
              "      <th>3</th>\n",
              "      <th>4</th>\n",
              "      <th>5</th>\n",
              "      <th>6</th>\n",
              "      <th>7</th>\n",
              "      <th>8</th>\n",
              "      <th>9</th>\n",
              "      <th>10</th>\n",
              "      <th>11</th>\n",
              "      <th>12</th>\n",
              "    </tr>\n",
              "    <tr>\n",
              "      <th>0</th>\n",
              "      <th></th>\n",
              "      <th></th>\n",
              "      <th></th>\n",
              "      <th></th>\n",
              "      <th></th>\n",
              "      <th></th>\n",
              "      <th></th>\n",
              "      <th></th>\n",
              "      <th></th>\n",
              "      <th></th>\n",
              "      <th></th>\n",
              "      <th></th>\n",
              "    </tr>\n",
              "  </thead>\n",
              "  <tbody>\n",
              "    <tr>\n",
              "      <th>1</th>\n",
              "      <td>0.49788</td>\n",
              "      <td>0.48246</td>\n",
              "      <td>-0.05921</td>\n",
              "      <td>0.96082</td>\n",
              "      <td>0.12600</td>\n",
              "      <td>0.31287</td>\n",
              "      <td>-0.57545</td>\n",
              "      <td>-0.58331</td>\n",
              "      <td>-0.91699</td>\n",
              "      <td>-0.00665</td>\n",
              "      <td>-0.21712</td>\n",
              "      <td>-1.18084</td>\n",
              "    </tr>\n",
              "    <tr>\n",
              "      <th>2</th>\n",
              "      <td>-0.07854</td>\n",
              "      <td>-0.48246</td>\n",
              "      <td>1.98437</td>\n",
              "      <td>0.96082</td>\n",
              "      <td>-0.31685</td>\n",
              "      <td>-0.67825</td>\n",
              "      <td>1.93886</td>\n",
              "      <td>1.43533</td>\n",
              "      <td>0.76096</td>\n",
              "      <td>-0.14277</td>\n",
              "      <td>-0.71126</td>\n",
              "      <td>-0.21575</td>\n",
              "    </tr>\n",
              "    <tr>\n",
              "      <th>3</th>\n",
              "      <td>0.49788</td>\n",
              "      <td>-0.48246</td>\n",
              "      <td>-0.05921</td>\n",
              "      <td>0.96082</td>\n",
              "      <td>-0.31685</td>\n",
              "      <td>-0.46725</td>\n",
              "      <td>0.80523</td>\n",
              "      <td>-0.84732</td>\n",
              "      <td>-1.62090</td>\n",
              "      <td>-1.01450</td>\n",
              "      <td>-1.37983</td>\n",
              "      <td>0.40148</td>\n",
              "    </tr>\n",
              "    <tr>\n",
              "      <th>4</th>\n",
              "      <td>-0.95197</td>\n",
              "      <td>0.48246</td>\n",
              "      <td>1.16365</td>\n",
              "      <td>0.96082</td>\n",
              "      <td>-0.31685</td>\n",
              "      <td>-0.14882</td>\n",
              "      <td>-0.80615</td>\n",
              "      <td>-0.01928</td>\n",
              "      <td>0.59042</td>\n",
              "      <td>0.58489</td>\n",
              "      <td>-1.37983</td>\n",
              "      <td>-1.18084</td>\n",
              "    </tr>\n",
              "    <tr>\n",
              "      <th>5</th>\n",
              "      <td>0.49788</td>\n",
              "      <td>0.48246</td>\n",
              "      <td>1.98437</td>\n",
              "      <td>0.96082</td>\n",
              "      <td>-0.31685</td>\n",
              "      <td>0.73545</td>\n",
              "      <td>-1.63340</td>\n",
              "      <td>-0.45174</td>\n",
              "      <td>-0.30172</td>\n",
              "      <td>1.30612</td>\n",
              "      <td>-0.21712</td>\n",
              "      <td>-0.21575</td>\n",
              "    </tr>\n",
              "  </tbody>\n",
              "</table>\n",
              "</div>\n",
              "      <button class=\"colab-df-convert\" onclick=\"convertToInteractive('df-a7a31cb4-d85e-4890-b9bb-de07c50cbd28')\"\n",
              "              title=\"Convert this dataframe to an interactive table.\"\n",
              "              style=\"display:none;\">\n",
              "        \n",
              "  <svg xmlns=\"http://www.w3.org/2000/svg\" height=\"24px\"viewBox=\"0 0 24 24\"\n",
              "       width=\"24px\">\n",
              "    <path d=\"M0 0h24v24H0V0z\" fill=\"none\"/>\n",
              "    <path d=\"M18.56 5.44l.94 2.06.94-2.06 2.06-.94-2.06-.94-.94-2.06-.94 2.06-2.06.94zm-11 1L8.5 8.5l.94-2.06 2.06-.94-2.06-.94L8.5 2.5l-.94 2.06-2.06.94zm10 10l.94 2.06.94-2.06 2.06-.94-2.06-.94-.94-2.06-.94 2.06-2.06.94z\"/><path d=\"M17.41 7.96l-1.37-1.37c-.4-.4-.92-.59-1.43-.59-.52 0-1.04.2-1.43.59L10.3 9.45l-7.72 7.72c-.78.78-.78 2.05 0 2.83L4 21.41c.39.39.9.59 1.41.59.51 0 1.02-.2 1.41-.59l7.78-7.78 2.81-2.81c.8-.78.8-2.07 0-2.86zM5.41 20L4 18.59l7.72-7.72 1.47 1.35L5.41 20z\"/>\n",
              "  </svg>\n",
              "      </button>\n",
              "      \n",
              "  <style>\n",
              "    .colab-df-container {\n",
              "      display:flex;\n",
              "      flex-wrap:wrap;\n",
              "      gap: 12px;\n",
              "    }\n",
              "\n",
              "    .colab-df-convert {\n",
              "      background-color: #E8F0FE;\n",
              "      border: none;\n",
              "      border-radius: 50%;\n",
              "      cursor: pointer;\n",
              "      display: none;\n",
              "      fill: #1967D2;\n",
              "      height: 32px;\n",
              "      padding: 0 0 0 0;\n",
              "      width: 32px;\n",
              "    }\n",
              "\n",
              "    .colab-df-convert:hover {\n",
              "      background-color: #E2EBFA;\n",
              "      box-shadow: 0px 1px 2px rgba(60, 64, 67, 0.3), 0px 1px 3px 1px rgba(60, 64, 67, 0.15);\n",
              "      fill: #174EA6;\n",
              "    }\n",
              "\n",
              "    [theme=dark] .colab-df-convert {\n",
              "      background-color: #3B4455;\n",
              "      fill: #D2E3FC;\n",
              "    }\n",
              "\n",
              "    [theme=dark] .colab-df-convert:hover {\n",
              "      background-color: #434B5C;\n",
              "      box-shadow: 0px 1px 3px 1px rgba(0, 0, 0, 0.15);\n",
              "      filter: drop-shadow(0px 1px 2px rgba(0, 0, 0, 0.3));\n",
              "      fill: #FFFFFF;\n",
              "    }\n",
              "  </style>\n",
              "\n",
              "      <script>\n",
              "        const buttonEl =\n",
              "          document.querySelector('#df-a7a31cb4-d85e-4890-b9bb-de07c50cbd28 button.colab-df-convert');\n",
              "        buttonEl.style.display =\n",
              "          google.colab.kernel.accessAllowed ? 'block' : 'none';\n",
              "\n",
              "        async function convertToInteractive(key) {\n",
              "          const element = document.querySelector('#df-a7a31cb4-d85e-4890-b9bb-de07c50cbd28');\n",
              "          const dataTable =\n",
              "            await google.colab.kernel.invokeFunction('convertToInteractive',\n",
              "                                                     [key], {});\n",
              "          if (!dataTable) return;\n",
              "\n",
              "          const docLinkHtml = 'Like what you see? Visit the ' +\n",
              "            '<a target=\"_blank\" href=https://colab.research.google.com/notebooks/data_table.ipynb>data table notebook</a>'\n",
              "            + ' to learn more about interactive tables.';\n",
              "          element.innerHTML = '';\n",
              "          dataTable['output_type'] = 'display_data';\n",
              "          await google.colab.output.renderOutput(dataTable, element);\n",
              "          const docLink = document.createElement('div');\n",
              "          docLink.innerHTML = docLinkHtml;\n",
              "          element.appendChild(docLink);\n",
              "        }\n",
              "      </script>\n",
              "    </div>\n",
              "  </div>\n",
              "  "
            ],
            "text/plain": [
              "        1        2        3        4   ...       9        10       11       12\n",
              "0                                      ...                                    \n",
              "1  0.49788  0.48246 -0.05921  0.96082  ... -0.91699 -0.00665 -0.21712 -1.18084\n",
              "2 -0.07854 -0.48246  1.98437  0.96082  ...  0.76096 -0.14277 -0.71126 -0.21575\n",
              "3  0.49788 -0.48246 -0.05921  0.96082  ... -1.62090 -1.01450 -1.37983  0.40148\n",
              "4 -0.95197  0.48246  1.16365  0.96082  ...  0.59042  0.58489 -1.37983 -1.18084\n",
              "5  0.49788  0.48246  1.98437  0.96082  ... -0.30172  1.30612 -0.21712 -0.21575\n",
              "\n",
              "[5 rows x 12 columns]"
            ]
          },
          "metadata": {},
          "execution_count": 25
        }
      ]
    },
    {
      "cell_type": "code",
      "source": [
        "y = data[range(13, 32)]"
      ],
      "metadata": {
        "id": "I5f5BXFWeaYm"
      },
      "execution_count": null,
      "outputs": []
    },
    {
      "cell_type": "code",
      "source": [
        "y.head()"
      ],
      "metadata": {
        "id": "RkahtPCyeaVc",
        "outputId": "91dc2e6e-483a-49c5-9196-db160c732a66",
        "colab": {
          "base_uri": "https://localhost:8080/",
          "height": 238
        }
      },
      "execution_count": null,
      "outputs": [
        {
          "output_type": "execute_result",
          "data": {
            "text/html": [
              "\n",
              "  <div id=\"df-4f0d522a-9181-4bdc-a830-11772bcd4839\">\n",
              "    <div class=\"colab-df-container\">\n",
              "      <div>\n",
              "<style scoped>\n",
              "    .dataframe tbody tr th:only-of-type {\n",
              "        vertical-align: middle;\n",
              "    }\n",
              "\n",
              "    .dataframe tbody tr th {\n",
              "        vertical-align: top;\n",
              "    }\n",
              "\n",
              "    .dataframe thead th {\n",
              "        text-align: right;\n",
              "    }\n",
              "</style>\n",
              "<table border=\"1\" class=\"dataframe\">\n",
              "  <thead>\n",
              "    <tr style=\"text-align: right;\">\n",
              "      <th></th>\n",
              "      <th>13</th>\n",
              "      <th>14</th>\n",
              "      <th>15</th>\n",
              "      <th>16</th>\n",
              "      <th>17</th>\n",
              "      <th>18</th>\n",
              "      <th>19</th>\n",
              "      <th>20</th>\n",
              "      <th>21</th>\n",
              "      <th>22</th>\n",
              "      <th>23</th>\n",
              "      <th>24</th>\n",
              "      <th>25</th>\n",
              "      <th>26</th>\n",
              "      <th>27</th>\n",
              "      <th>28</th>\n",
              "      <th>29</th>\n",
              "      <th>30</th>\n",
              "      <th>31</th>\n",
              "    </tr>\n",
              "    <tr>\n",
              "      <th>0</th>\n",
              "      <th></th>\n",
              "      <th></th>\n",
              "      <th></th>\n",
              "      <th></th>\n",
              "      <th></th>\n",
              "      <th></th>\n",
              "      <th></th>\n",
              "      <th></th>\n",
              "      <th></th>\n",
              "      <th></th>\n",
              "      <th></th>\n",
              "      <th></th>\n",
              "      <th></th>\n",
              "      <th></th>\n",
              "      <th></th>\n",
              "      <th></th>\n",
              "      <th></th>\n",
              "      <th></th>\n",
              "      <th></th>\n",
              "    </tr>\n",
              "  </thead>\n",
              "  <tbody>\n",
              "    <tr>\n",
              "      <th>1</th>\n",
              "      <td>CL5</td>\n",
              "      <td>CL2</td>\n",
              "      <td>CL0</td>\n",
              "      <td>CL2</td>\n",
              "      <td>CL6</td>\n",
              "      <td>CL0</td>\n",
              "      <td>CL5</td>\n",
              "      <td>CL0</td>\n",
              "      <td>CL0</td>\n",
              "      <td>CL0</td>\n",
              "      <td>CL0</td>\n",
              "      <td>CL0</td>\n",
              "      <td>CL0</td>\n",
              "      <td>CL0</td>\n",
              "      <td>CL0</td>\n",
              "      <td>CL0</td>\n",
              "      <td>CL2</td>\n",
              "      <td>CL0</td>\n",
              "      <td>CL0</td>\n",
              "    </tr>\n",
              "    <tr>\n",
              "      <th>2</th>\n",
              "      <td>CL5</td>\n",
              "      <td>CL2</td>\n",
              "      <td>CL2</td>\n",
              "      <td>CL0</td>\n",
              "      <td>CL6</td>\n",
              "      <td>CL4</td>\n",
              "      <td>CL6</td>\n",
              "      <td>CL3</td>\n",
              "      <td>CL0</td>\n",
              "      <td>CL4</td>\n",
              "      <td>CL0</td>\n",
              "      <td>CL2</td>\n",
              "      <td>CL0</td>\n",
              "      <td>CL2</td>\n",
              "      <td>CL3</td>\n",
              "      <td>CL0</td>\n",
              "      <td>CL4</td>\n",
              "      <td>CL0</td>\n",
              "      <td>CL0</td>\n",
              "    </tr>\n",
              "    <tr>\n",
              "      <th>3</th>\n",
              "      <td>CL6</td>\n",
              "      <td>CL0</td>\n",
              "      <td>CL0</td>\n",
              "      <td>CL0</td>\n",
              "      <td>CL6</td>\n",
              "      <td>CL3</td>\n",
              "      <td>CL4</td>\n",
              "      <td>CL0</td>\n",
              "      <td>CL0</td>\n",
              "      <td>CL0</td>\n",
              "      <td>CL0</td>\n",
              "      <td>CL0</td>\n",
              "      <td>CL0</td>\n",
              "      <td>CL0</td>\n",
              "      <td>CL0</td>\n",
              "      <td>CL1</td>\n",
              "      <td>CL0</td>\n",
              "      <td>CL0</td>\n",
              "      <td>CL0</td>\n",
              "    </tr>\n",
              "    <tr>\n",
              "      <th>4</th>\n",
              "      <td>CL4</td>\n",
              "      <td>CL0</td>\n",
              "      <td>CL0</td>\n",
              "      <td>CL3</td>\n",
              "      <td>CL5</td>\n",
              "      <td>CL2</td>\n",
              "      <td>CL4</td>\n",
              "      <td>CL2</td>\n",
              "      <td>CL0</td>\n",
              "      <td>CL0</td>\n",
              "      <td>CL0</td>\n",
              "      <td>CL2</td>\n",
              "      <td>CL0</td>\n",
              "      <td>CL0</td>\n",
              "      <td>CL0</td>\n",
              "      <td>CL0</td>\n",
              "      <td>CL2</td>\n",
              "      <td>CL0</td>\n",
              "      <td>CL0</td>\n",
              "    </tr>\n",
              "    <tr>\n",
              "      <th>5</th>\n",
              "      <td>CL4</td>\n",
              "      <td>CL1</td>\n",
              "      <td>CL1</td>\n",
              "      <td>CL0</td>\n",
              "      <td>CL6</td>\n",
              "      <td>CL3</td>\n",
              "      <td>CL6</td>\n",
              "      <td>CL0</td>\n",
              "      <td>CL0</td>\n",
              "      <td>CL1</td>\n",
              "      <td>CL0</td>\n",
              "      <td>CL0</td>\n",
              "      <td>CL1</td>\n",
              "      <td>CL0</td>\n",
              "      <td>CL0</td>\n",
              "      <td>CL2</td>\n",
              "      <td>CL2</td>\n",
              "      <td>CL0</td>\n",
              "      <td>CL0</td>\n",
              "    </tr>\n",
              "  </tbody>\n",
              "</table>\n",
              "</div>\n",
              "      <button class=\"colab-df-convert\" onclick=\"convertToInteractive('df-4f0d522a-9181-4bdc-a830-11772bcd4839')\"\n",
              "              title=\"Convert this dataframe to an interactive table.\"\n",
              "              style=\"display:none;\">\n",
              "        \n",
              "  <svg xmlns=\"http://www.w3.org/2000/svg\" height=\"24px\"viewBox=\"0 0 24 24\"\n",
              "       width=\"24px\">\n",
              "    <path d=\"M0 0h24v24H0V0z\" fill=\"none\"/>\n",
              "    <path d=\"M18.56 5.44l.94 2.06.94-2.06 2.06-.94-2.06-.94-.94-2.06-.94 2.06-2.06.94zm-11 1L8.5 8.5l.94-2.06 2.06-.94-2.06-.94L8.5 2.5l-.94 2.06-2.06.94zm10 10l.94 2.06.94-2.06 2.06-.94-2.06-.94-.94-2.06-.94 2.06-2.06.94z\"/><path d=\"M17.41 7.96l-1.37-1.37c-.4-.4-.92-.59-1.43-.59-.52 0-1.04.2-1.43.59L10.3 9.45l-7.72 7.72c-.78.78-.78 2.05 0 2.83L4 21.41c.39.39.9.59 1.41.59.51 0 1.02-.2 1.41-.59l7.78-7.78 2.81-2.81c.8-.78.8-2.07 0-2.86zM5.41 20L4 18.59l7.72-7.72 1.47 1.35L5.41 20z\"/>\n",
              "  </svg>\n",
              "      </button>\n",
              "      \n",
              "  <style>\n",
              "    .colab-df-container {\n",
              "      display:flex;\n",
              "      flex-wrap:wrap;\n",
              "      gap: 12px;\n",
              "    }\n",
              "\n",
              "    .colab-df-convert {\n",
              "      background-color: #E8F0FE;\n",
              "      border: none;\n",
              "      border-radius: 50%;\n",
              "      cursor: pointer;\n",
              "      display: none;\n",
              "      fill: #1967D2;\n",
              "      height: 32px;\n",
              "      padding: 0 0 0 0;\n",
              "      width: 32px;\n",
              "    }\n",
              "\n",
              "    .colab-df-convert:hover {\n",
              "      background-color: #E2EBFA;\n",
              "      box-shadow: 0px 1px 2px rgba(60, 64, 67, 0.3), 0px 1px 3px 1px rgba(60, 64, 67, 0.15);\n",
              "      fill: #174EA6;\n",
              "    }\n",
              "\n",
              "    [theme=dark] .colab-df-convert {\n",
              "      background-color: #3B4455;\n",
              "      fill: #D2E3FC;\n",
              "    }\n",
              "\n",
              "    [theme=dark] .colab-df-convert:hover {\n",
              "      background-color: #434B5C;\n",
              "      box-shadow: 0px 1px 3px 1px rgba(0, 0, 0, 0.15);\n",
              "      filter: drop-shadow(0px 1px 2px rgba(0, 0, 0, 0.3));\n",
              "      fill: #FFFFFF;\n",
              "    }\n",
              "  </style>\n",
              "\n",
              "      <script>\n",
              "        const buttonEl =\n",
              "          document.querySelector('#df-4f0d522a-9181-4bdc-a830-11772bcd4839 button.colab-df-convert');\n",
              "        buttonEl.style.display =\n",
              "          google.colab.kernel.accessAllowed ? 'block' : 'none';\n",
              "\n",
              "        async function convertToInteractive(key) {\n",
              "          const element = document.querySelector('#df-4f0d522a-9181-4bdc-a830-11772bcd4839');\n",
              "          const dataTable =\n",
              "            await google.colab.kernel.invokeFunction('convertToInteractive',\n",
              "                                                     [key], {});\n",
              "          if (!dataTable) return;\n",
              "\n",
              "          const docLinkHtml = 'Like what you see? Visit the ' +\n",
              "            '<a target=\"_blank\" href=https://colab.research.google.com/notebooks/data_table.ipynb>data table notebook</a>'\n",
              "            + ' to learn more about interactive tables.';\n",
              "          element.innerHTML = '';\n",
              "          dataTable['output_type'] = 'display_data';\n",
              "          await google.colab.output.renderOutput(dataTable, element);\n",
              "          const docLink = document.createElement('div');\n",
              "          docLink.innerHTML = docLinkHtml;\n",
              "          element.appendChild(docLink);\n",
              "        }\n",
              "      </script>\n",
              "    </div>\n",
              "  </div>\n",
              "  "
            ],
            "text/plain": [
              "    13   14   15   16   17   18   19  ...   25   26   27   28   29   30   31\n",
              "0                                     ...                                   \n",
              "1  CL5  CL2  CL0  CL2  CL6  CL0  CL5  ...  CL0  CL0  CL0  CL0  CL2  CL0  CL0\n",
              "2  CL5  CL2  CL2  CL0  CL6  CL4  CL6  ...  CL0  CL2  CL3  CL0  CL4  CL0  CL0\n",
              "3  CL6  CL0  CL0  CL0  CL6  CL3  CL4  ...  CL0  CL0  CL0  CL1  CL0  CL0  CL0\n",
              "4  CL4  CL0  CL0  CL3  CL5  CL2  CL4  ...  CL0  CL0  CL0  CL0  CL2  CL0  CL0\n",
              "5  CL4  CL1  CL1  CL0  CL6  CL3  CL6  ...  CL1  CL0  CL0  CL2  CL2  CL0  CL0\n",
              "\n",
              "[5 rows x 19 columns]"
            ]
          },
          "metadata": {},
          "execution_count": 27
        }
      ]
    },
    {
      "cell_type": "markdown",
      "source": [
        "Сведем задачу к multilabel binary classification, как это указано в описании к датасету."
      ],
      "metadata": {
        "id": "lOl4t_8K_cI6"
      }
    },
    {
      "cell_type": "code",
      "source": [
        "y_multi = y.applymap(lambda x: 0 if x == 'CL0' or x == 'CL1' else 1)"
      ],
      "metadata": {
        "id": "UyHRM-CwpxWk"
      },
      "execution_count": null,
      "outputs": []
    },
    {
      "cell_type": "code",
      "source": [
        "y_multi.head()"
      ],
      "metadata": {
        "id": "kxG0e4km7N3V",
        "outputId": "a7f9a410-6ff5-47a2-fadb-b0e53dee38ed",
        "colab": {
          "base_uri": "https://localhost:8080/",
          "height": 238
        }
      },
      "execution_count": null,
      "outputs": [
        {
          "output_type": "execute_result",
          "data": {
            "text/html": [
              "\n",
              "  <div id=\"df-56cbe164-4035-4716-be58-f7f51f0cf0c0\">\n",
              "    <div class=\"colab-df-container\">\n",
              "      <div>\n",
              "<style scoped>\n",
              "    .dataframe tbody tr th:only-of-type {\n",
              "        vertical-align: middle;\n",
              "    }\n",
              "\n",
              "    .dataframe tbody tr th {\n",
              "        vertical-align: top;\n",
              "    }\n",
              "\n",
              "    .dataframe thead th {\n",
              "        text-align: right;\n",
              "    }\n",
              "</style>\n",
              "<table border=\"1\" class=\"dataframe\">\n",
              "  <thead>\n",
              "    <tr style=\"text-align: right;\">\n",
              "      <th></th>\n",
              "      <th>13</th>\n",
              "      <th>14</th>\n",
              "      <th>15</th>\n",
              "      <th>16</th>\n",
              "      <th>17</th>\n",
              "      <th>18</th>\n",
              "      <th>19</th>\n",
              "      <th>20</th>\n",
              "      <th>21</th>\n",
              "      <th>22</th>\n",
              "      <th>23</th>\n",
              "      <th>24</th>\n",
              "      <th>25</th>\n",
              "      <th>26</th>\n",
              "      <th>27</th>\n",
              "      <th>28</th>\n",
              "      <th>29</th>\n",
              "      <th>30</th>\n",
              "      <th>31</th>\n",
              "    </tr>\n",
              "    <tr>\n",
              "      <th>0</th>\n",
              "      <th></th>\n",
              "      <th></th>\n",
              "      <th></th>\n",
              "      <th></th>\n",
              "      <th></th>\n",
              "      <th></th>\n",
              "      <th></th>\n",
              "      <th></th>\n",
              "      <th></th>\n",
              "      <th></th>\n",
              "      <th></th>\n",
              "      <th></th>\n",
              "      <th></th>\n",
              "      <th></th>\n",
              "      <th></th>\n",
              "      <th></th>\n",
              "      <th></th>\n",
              "      <th></th>\n",
              "      <th></th>\n",
              "    </tr>\n",
              "  </thead>\n",
              "  <tbody>\n",
              "    <tr>\n",
              "      <th>1</th>\n",
              "      <td>1</td>\n",
              "      <td>1</td>\n",
              "      <td>0</td>\n",
              "      <td>1</td>\n",
              "      <td>1</td>\n",
              "      <td>0</td>\n",
              "      <td>1</td>\n",
              "      <td>0</td>\n",
              "      <td>0</td>\n",
              "      <td>0</td>\n",
              "      <td>0</td>\n",
              "      <td>0</td>\n",
              "      <td>0</td>\n",
              "      <td>0</td>\n",
              "      <td>0</td>\n",
              "      <td>0</td>\n",
              "      <td>1</td>\n",
              "      <td>0</td>\n",
              "      <td>0</td>\n",
              "    </tr>\n",
              "    <tr>\n",
              "      <th>2</th>\n",
              "      <td>1</td>\n",
              "      <td>1</td>\n",
              "      <td>1</td>\n",
              "      <td>0</td>\n",
              "      <td>1</td>\n",
              "      <td>1</td>\n",
              "      <td>1</td>\n",
              "      <td>1</td>\n",
              "      <td>0</td>\n",
              "      <td>1</td>\n",
              "      <td>0</td>\n",
              "      <td>1</td>\n",
              "      <td>0</td>\n",
              "      <td>1</td>\n",
              "      <td>1</td>\n",
              "      <td>0</td>\n",
              "      <td>1</td>\n",
              "      <td>0</td>\n",
              "      <td>0</td>\n",
              "    </tr>\n",
              "    <tr>\n",
              "      <th>3</th>\n",
              "      <td>1</td>\n",
              "      <td>0</td>\n",
              "      <td>0</td>\n",
              "      <td>0</td>\n",
              "      <td>1</td>\n",
              "      <td>1</td>\n",
              "      <td>1</td>\n",
              "      <td>0</td>\n",
              "      <td>0</td>\n",
              "      <td>0</td>\n",
              "      <td>0</td>\n",
              "      <td>0</td>\n",
              "      <td>0</td>\n",
              "      <td>0</td>\n",
              "      <td>0</td>\n",
              "      <td>0</td>\n",
              "      <td>0</td>\n",
              "      <td>0</td>\n",
              "      <td>0</td>\n",
              "    </tr>\n",
              "    <tr>\n",
              "      <th>4</th>\n",
              "      <td>1</td>\n",
              "      <td>0</td>\n",
              "      <td>0</td>\n",
              "      <td>1</td>\n",
              "      <td>1</td>\n",
              "      <td>1</td>\n",
              "      <td>1</td>\n",
              "      <td>1</td>\n",
              "      <td>0</td>\n",
              "      <td>0</td>\n",
              "      <td>0</td>\n",
              "      <td>1</td>\n",
              "      <td>0</td>\n",
              "      <td>0</td>\n",
              "      <td>0</td>\n",
              "      <td>0</td>\n",
              "      <td>1</td>\n",
              "      <td>0</td>\n",
              "      <td>0</td>\n",
              "    </tr>\n",
              "    <tr>\n",
              "      <th>5</th>\n",
              "      <td>1</td>\n",
              "      <td>0</td>\n",
              "      <td>0</td>\n",
              "      <td>0</td>\n",
              "      <td>1</td>\n",
              "      <td>1</td>\n",
              "      <td>1</td>\n",
              "      <td>0</td>\n",
              "      <td>0</td>\n",
              "      <td>0</td>\n",
              "      <td>0</td>\n",
              "      <td>0</td>\n",
              "      <td>0</td>\n",
              "      <td>0</td>\n",
              "      <td>0</td>\n",
              "      <td>1</td>\n",
              "      <td>1</td>\n",
              "      <td>0</td>\n",
              "      <td>0</td>\n",
              "    </tr>\n",
              "  </tbody>\n",
              "</table>\n",
              "</div>\n",
              "      <button class=\"colab-df-convert\" onclick=\"convertToInteractive('df-56cbe164-4035-4716-be58-f7f51f0cf0c0')\"\n",
              "              title=\"Convert this dataframe to an interactive table.\"\n",
              "              style=\"display:none;\">\n",
              "        \n",
              "  <svg xmlns=\"http://www.w3.org/2000/svg\" height=\"24px\"viewBox=\"0 0 24 24\"\n",
              "       width=\"24px\">\n",
              "    <path d=\"M0 0h24v24H0V0z\" fill=\"none\"/>\n",
              "    <path d=\"M18.56 5.44l.94 2.06.94-2.06 2.06-.94-2.06-.94-.94-2.06-.94 2.06-2.06.94zm-11 1L8.5 8.5l.94-2.06 2.06-.94-2.06-.94L8.5 2.5l-.94 2.06-2.06.94zm10 10l.94 2.06.94-2.06 2.06-.94-2.06-.94-.94-2.06-.94 2.06-2.06.94z\"/><path d=\"M17.41 7.96l-1.37-1.37c-.4-.4-.92-.59-1.43-.59-.52 0-1.04.2-1.43.59L10.3 9.45l-7.72 7.72c-.78.78-.78 2.05 0 2.83L4 21.41c.39.39.9.59 1.41.59.51 0 1.02-.2 1.41-.59l7.78-7.78 2.81-2.81c.8-.78.8-2.07 0-2.86zM5.41 20L4 18.59l7.72-7.72 1.47 1.35L5.41 20z\"/>\n",
              "  </svg>\n",
              "      </button>\n",
              "      \n",
              "  <style>\n",
              "    .colab-df-container {\n",
              "      display:flex;\n",
              "      flex-wrap:wrap;\n",
              "      gap: 12px;\n",
              "    }\n",
              "\n",
              "    .colab-df-convert {\n",
              "      background-color: #E8F0FE;\n",
              "      border: none;\n",
              "      border-radius: 50%;\n",
              "      cursor: pointer;\n",
              "      display: none;\n",
              "      fill: #1967D2;\n",
              "      height: 32px;\n",
              "      padding: 0 0 0 0;\n",
              "      width: 32px;\n",
              "    }\n",
              "\n",
              "    .colab-df-convert:hover {\n",
              "      background-color: #E2EBFA;\n",
              "      box-shadow: 0px 1px 2px rgba(60, 64, 67, 0.3), 0px 1px 3px 1px rgba(60, 64, 67, 0.15);\n",
              "      fill: #174EA6;\n",
              "    }\n",
              "\n",
              "    [theme=dark] .colab-df-convert {\n",
              "      background-color: #3B4455;\n",
              "      fill: #D2E3FC;\n",
              "    }\n",
              "\n",
              "    [theme=dark] .colab-df-convert:hover {\n",
              "      background-color: #434B5C;\n",
              "      box-shadow: 0px 1px 3px 1px rgba(0, 0, 0, 0.15);\n",
              "      filter: drop-shadow(0px 1px 2px rgba(0, 0, 0, 0.3));\n",
              "      fill: #FFFFFF;\n",
              "    }\n",
              "  </style>\n",
              "\n",
              "      <script>\n",
              "        const buttonEl =\n",
              "          document.querySelector('#df-56cbe164-4035-4716-be58-f7f51f0cf0c0 button.colab-df-convert');\n",
              "        buttonEl.style.display =\n",
              "          google.colab.kernel.accessAllowed ? 'block' : 'none';\n",
              "\n",
              "        async function convertToInteractive(key) {\n",
              "          const element = document.querySelector('#df-56cbe164-4035-4716-be58-f7f51f0cf0c0');\n",
              "          const dataTable =\n",
              "            await google.colab.kernel.invokeFunction('convertToInteractive',\n",
              "                                                     [key], {});\n",
              "          if (!dataTable) return;\n",
              "\n",
              "          const docLinkHtml = 'Like what you see? Visit the ' +\n",
              "            '<a target=\"_blank\" href=https://colab.research.google.com/notebooks/data_table.ipynb>data table notebook</a>'\n",
              "            + ' to learn more about interactive tables.';\n",
              "          element.innerHTML = '';\n",
              "          dataTable['output_type'] = 'display_data';\n",
              "          await google.colab.output.renderOutput(dataTable, element);\n",
              "          const docLink = document.createElement('div');\n",
              "          docLink.innerHTML = docLinkHtml;\n",
              "          element.appendChild(docLink);\n",
              "        }\n",
              "      </script>\n",
              "    </div>\n",
              "  </div>\n",
              "  "
            ],
            "text/plain": [
              "   13  14  15  16  17  18  19  20  21  22  23  24  25  26  27  28  29  30  31\n",
              "0                                                                            \n",
              "1   1   1   0   1   1   0   1   0   0   0   0   0   0   0   0   0   1   0   0\n",
              "2   1   1   1   0   1   1   1   1   0   1   0   1   0   1   1   0   1   0   0\n",
              "3   1   0   0   0   1   1   1   0   0   0   0   0   0   0   0   0   0   0   0\n",
              "4   1   0   0   1   1   1   1   1   0   0   0   1   0   0   0   0   1   0   0\n",
              "5   1   0   0   0   1   1   1   0   0   0   0   0   0   0   0   1   1   0   0"
            ]
          },
          "metadata": {},
          "execution_count": 121
        }
      ]
    },
    {
      "cell_type": "markdown",
      "source": [
        "Разделим наш датасет на обучающую и тестовую выборки."
      ],
      "metadata": {
        "id": "tsY1kqXt_jlB"
      }
    },
    {
      "cell_type": "code",
      "source": [
        "X_train, X_test, y_train, y_test = train_test_split(X, y_multi, test_size=0.3, random_state=0)"
      ],
      "metadata": {
        "id": "yE4upI_eeaTM"
      },
      "execution_count": null,
      "outputs": []
    },
    {
      "cell_type": "code",
      "source": [
        "X_train.shape"
      ],
      "metadata": {
        "id": "DO3LNtiveaQ3",
        "outputId": "c798c502-b180-4b82-af53-4e900d08bc05",
        "colab": {
          "base_uri": "https://localhost:8080/"
        }
      },
      "execution_count": null,
      "outputs": [
        {
          "output_type": "execute_result",
          "data": {
            "text/plain": [
              "(1319, 12)"
            ]
          },
          "metadata": {},
          "execution_count": 31
        }
      ]
    },
    {
      "cell_type": "code",
      "source": [
        "X_test.shape"
      ],
      "metadata": {
        "id": "Hut4aH4SeaNn",
        "outputId": "6b202bb0-f1e3-4960-c0ae-64b9c9eb7c83",
        "colab": {
          "base_uri": "https://localhost:8080/"
        }
      },
      "execution_count": null,
      "outputs": [
        {
          "output_type": "execute_result",
          "data": {
            "text/plain": [
              "(566, 12)"
            ]
          },
          "metadata": {},
          "execution_count": 32
        }
      ]
    },
    {
      "cell_type": "markdown",
      "source": [
        "Применим подход OneVsRestClassifier, он является одним из самых популярных подходов для мультиклассовой классификации."
      ],
      "metadata": {
        "id": "q6NSdPI7_qlc"
      }
    },
    {
      "cell_type": "code",
      "source": [
        "clf = OneVsRestClassifier(RandomForestClassifier())"
      ],
      "metadata": {
        "id": "R8U3aXVieaLF"
      },
      "execution_count": null,
      "outputs": []
    },
    {
      "cell_type": "code",
      "source": [
        "from sklearn.svm import LinearSVC"
      ],
      "metadata": {
        "id": "_bdklPfgNtTO"
      },
      "execution_count": null,
      "outputs": []
    },
    {
      "cell_type": "markdown",
      "source": [
        "Посмотрим, какой классификатор из LinearSVC и RandomForestClassifier лучше всего решит данную задачу."
      ],
      "metadata": {
        "id": "krfVQBfePTQT"
      }
    },
    {
      "cell_type": "code",
      "source": [
        "for base_clf in (LinearSVC(random_state=0),\n",
        "                 RandomForestClassifier()):\n",
        "        clf = OneVsRestClassifier(base_clf).fit(X_train, y_train)\n",
        "        y_pred = clf.predict(X_test)\n",
        "        print(base_clf, f1_score(y_pred, y_test, average='samples'))"
      ],
      "metadata": {
        "id": "NHRyR_qrAdk1",
        "outputId": "c7b9e4d8-8479-4c0f-aa18-fb3fcb52187f",
        "colab": {
          "base_uri": "https://localhost:8080/"
        }
      },
      "execution_count": null,
      "outputs": [
        {
          "output_type": "stream",
          "name": "stderr",
          "text": [
            "/usr/local/lib/python3.7/dist-packages/sklearn/svm/_base.py:1208: ConvergenceWarning: Liblinear failed to converge, increase the number of iterations.\n",
            "  ConvergenceWarning,\n",
            "/usr/local/lib/python3.7/dist-packages/sklearn/svm/_base.py:1208: ConvergenceWarning: Liblinear failed to converge, increase the number of iterations.\n",
            "  ConvergenceWarning,\n"
          ]
        },
        {
          "output_type": "stream",
          "name": "stdout",
          "text": [
            "LinearSVC(random_state=0) 0.7993447714026446\n",
            "RandomForestClassifier() 0.7903585736453609\n"
          ]
        }
      ]
    },
    {
      "cell_type": "markdown",
      "source": [
        "С данной задачей лучше всего справляется LinearSVC.\n",
        "\n"
      ],
      "metadata": {
        "id": "Q5Bpq0cnPV7_"
      }
    },
    {
      "cell_type": "code",
      "source": [
        "clf_onevsrest_linsvc = OneVsRestClassifier(LinearSVC(random_state=0))"
      ],
      "metadata": {
        "id": "wmAAagAcPdus"
      },
      "execution_count": null,
      "outputs": []
    },
    {
      "cell_type": "code",
      "source": [
        "clf_onevsrest_linsvc.fit(X_train, y_train)"
      ],
      "metadata": {
        "id": "ItCVmQkOikmt",
        "outputId": "dbdf775c-5ab4-45d0-d410-36175765de12",
        "colab": {
          "base_uri": "https://localhost:8080/"
        }
      },
      "execution_count": null,
      "outputs": [
        {
          "output_type": "stream",
          "name": "stderr",
          "text": [
            "/usr/local/lib/python3.7/dist-packages/sklearn/svm/_base.py:1208: ConvergenceWarning: Liblinear failed to converge, increase the number of iterations.\n",
            "  ConvergenceWarning,\n",
            "/usr/local/lib/python3.7/dist-packages/sklearn/svm/_base.py:1208: ConvergenceWarning: Liblinear failed to converge, increase the number of iterations.\n",
            "  ConvergenceWarning,\n"
          ]
        },
        {
          "output_type": "execute_result",
          "data": {
            "text/plain": [
              "OneVsRestClassifier(estimator=LinearSVC(random_state=0))"
            ]
          },
          "metadata": {},
          "execution_count": 37
        }
      ]
    },
    {
      "cell_type": "markdown",
      "source": [
        "Сделаем предсказание для тестовой выбоки."
      ],
      "metadata": {
        "id": "PzBzJ4xHON7Q"
      }
    },
    {
      "cell_type": "code",
      "source": [
        "predict = clf_onevsrest_linsvc.predict(X_test)"
      ],
      "metadata": {
        "id": "btSoyu5tikkm"
      },
      "execution_count": null,
      "outputs": []
    },
    {
      "cell_type": "markdown",
      "source": [
        "Оценим полученный результат с помощью F-меры."
      ],
      "metadata": {
        "id": "AnRkAK50QUZJ"
      }
    },
    {
      "cell_type": "code",
      "source": [
        "f1_score(predict, y_test, average='samples')"
      ],
      "metadata": {
        "id": "IWctOZO_ikh0",
        "outputId": "55d0c7ef-e78b-479e-8135-5d837acfb1d6",
        "colab": {
          "base_uri": "https://localhost:8080/"
        }
      },
      "execution_count": null,
      "outputs": [
        {
          "output_type": "execute_result",
          "data": {
            "text/plain": [
              "0.7993447714026446"
            ]
          },
          "metadata": {},
          "execution_count": 39
        }
      ]
    },
    {
      "cell_type": "markdown",
      "source": [
        "Сведем задачу к задаче бинарной классификации. Предлагаю такие варианты:\n",
        " \n",
        "  - разделить все наблюдения на те, которые принимали наркотики и тех кто их не принимал;\n",
        "  - разделить показания, на тех, которые являются \"жесткими\" наркоманами, то есть употребляли наркотики за последние 2 месяца;"
      ],
      "metadata": {
        "id": "Fw58YgJnROZn"
      }
    },
    {
      "cell_type": "markdown",
      "source": [
        "Обработаем вектор результатов и создадим 2 вектора для сформулированной квалификации."
      ],
      "metadata": {
        "id": "Hv-hyuNLSwfV"
      }
    },
    {
      "cell_type": "markdown",
      "source": [
        "Согласно описанию DataFrame накркотики находятся в столбцах 14, 15, 16, 18, 20, 21, 22, 23, 24, 26, 27, 28, 30. Посмотрим у кого из пользоватиелей сумма по этим столбцам равно 0 (эти рользователи получают класс 1 - ринимали), остальные класс 0 - не принимали. За основу взята матрица полученная для multilabel binary classification."
      ],
      "metadata": {
        "id": "lkPXujpLcp4Q"
      }
    },
    {
      "cell_type": "code",
      "source": [
        "y_never = (y_multi[[14, 15, 16, 18, 20, 21, 22, 23, 24, 26, 27, 28, 30]].apply(sum, axis=1) == 0).astype(int)"
      ],
      "metadata": {
        "id": "Q3rIGBQnS7MR"
      },
      "execution_count": null,
      "outputs": []
    },
    {
      "cell_type": "code",
      "source": [
        "y_never.head()"
      ],
      "metadata": {
        "id": "SMdlWahLf04y",
        "outputId": "aab5e58f-bb16-412b-ab91-801c376569ff",
        "colab": {
          "base_uri": "https://localhost:8080/"
        }
      },
      "execution_count": null,
      "outputs": [
        {
          "output_type": "execute_result",
          "data": {
            "text/plain": [
              "0\n",
              "1    0\n",
              "2    0\n",
              "3    0\n",
              "4    0\n",
              "5    0\n",
              "dtype: int64"
            ]
          },
          "metadata": {},
          "execution_count": 125
        }
      ]
    },
    {
      "cell_type": "markdown",
      "source": [
        "Определим \"жестких\" наркоманов, то есть тех, кто принимал наркотики за последние 2 месяца.\n",
        "\n"
      ],
      "metadata": {
        "id": "W4ptHiF1fZ4t"
      }
    },
    {
      "cell_type": "code",
      "source": [
        "y_nark = (y[[14, 15, 16, 18, 20, 21, 22, 23, 24, 26, 27, 28, 30]] == 'CL6') | (y[[14, 15, 16, 18, 20, 21, 22, 23, 24, 26, 27, 28, 30]] == 'CL5') | (y[[14, 15, 16, 18, 20, 21, 22, 23, 24, 26, 27, 28, 30]] == 'CL4')"
      ],
      "metadata": {
        "id": "yRPkcUpYeA2P"
      },
      "execution_count": null,
      "outputs": []
    },
    {
      "cell_type": "code",
      "source": [
        "y_nark = (y_nark.apply(sum, axis=1) == 0).astype(int)"
      ],
      "metadata": {
        "id": "5lf4ql6ReAq-"
      },
      "execution_count": null,
      "outputs": []
    },
    {
      "cell_type": "markdown",
      "source": [
        "Здесь получается обратная ситуация, в силу особенной логического разделения. 1 - принимал за послдение 2 месяца, 0 - не принимал."
      ],
      "metadata": {
        "id": "46VI2HsSg_Qe"
      }
    },
    {
      "cell_type": "code",
      "source": [
        "y_nark.head()"
      ],
      "metadata": {
        "id": "LUyoPbe7fWid",
        "outputId": "06f256c9-c470-4c0a-eb16-735b68419c52",
        "colab": {
          "base_uri": "https://localhost:8080/"
        }
      },
      "execution_count": null,
      "outputs": [
        {
          "output_type": "execute_result",
          "data": {
            "text/plain": [
              "0\n",
              "1    1\n",
              "2    0\n",
              "3    1\n",
              "4    1\n",
              "5    1\n",
              "dtype: int64"
            ]
          },
          "metadata": {},
          "execution_count": 120
        }
      ]
    },
    {
      "cell_type": "markdown",
      "source": [
        "Для простой бинарной классификации опробуем 3 подхода:\n",
        "\n",
        "  - DecisionTreeClassifier;\n",
        "  - LinearSVC;\n",
        "  - RandomTreeClassifier.\n",
        "\n",
        "  Для деревьев порробуем подобрать наилучшую модель прогнозирования (используем GridSearchCV для поиска наилучших параметров модели)."
      ],
      "metadata": {
        "id": "716LwimfdXuO"
      }
    },
    {
      "cell_type": "markdown",
      "source": [
        "Создадим и оценим модели для первого варианта классификации."
      ],
      "metadata": {
        "id": "UjDae_yrmYzY"
      }
    },
    {
      "cell_type": "markdown",
      "source": [
        "Первое, что нужно сделать, получить тренировочную и тестовую выборки."
      ],
      "metadata": {
        "id": "D0fftRUCiA4T"
      }
    },
    {
      "cell_type": "code",
      "source": [
        "X_train, X_test, y_train, y_test = train_test_split(X, y_never, test_size=0.3, random_state=0)"
      ],
      "metadata": {
        "id": "rhOloGe8S7Ju"
      },
      "execution_count": null,
      "outputs": []
    },
    {
      "cell_type": "markdown",
      "source": [
        "Создадим модель и подберем параметры для нее."
      ],
      "metadata": {
        "id": "Ye_TZ_eEiOZD"
      }
    },
    {
      "cell_type": "code",
      "source": [
        "clf = DecisionTreeClassifier()"
      ],
      "metadata": {
        "id": "q8pucAl_S7HC"
      },
      "execution_count": null,
      "outputs": []
    },
    {
      "cell_type": "code",
      "source": [
        "params = {\n",
        "    'criterion': ['gini', 'entropy'],\n",
        "    'max_depth': range(1, 15),\n",
        "    'min_samples_split': range(2, 11, 2),\n",
        "    'min_samples_leaf': range(1, 10)\n",
        "}"
      ],
      "metadata": {
        "id": "n-fwgoJFS7ES"
      },
      "execution_count": null,
      "outputs": []
    },
    {
      "cell_type": "code",
      "source": [
        "search = GridSearchCV(clf, params, n_jobs=-1)"
      ],
      "metadata": {
        "id": "NEPWMcacS7Am"
      },
      "execution_count": null,
      "outputs": []
    },
    {
      "cell_type": "code",
      "source": [
        "search.fit(X_train, y_train)"
      ],
      "metadata": {
        "id": "QUZSHL8PS64R",
        "outputId": "b2dd5122-9021-432f-efd2-d734057991f6",
        "colab": {
          "base_uri": "https://localhost:8080/"
        }
      },
      "execution_count": null,
      "outputs": [
        {
          "output_type": "execute_result",
          "data": {
            "text/plain": [
              "GridSearchCV(estimator=DecisionTreeClassifier(), n_jobs=-1,\n",
              "             param_grid={'criterion': ['gini', 'entropy'],\n",
              "                         'max_depth': range(1, 15),\n",
              "                         'min_samples_leaf': range(1, 10),\n",
              "                         'min_samples_split': range(2, 11, 2)})"
            ]
          },
          "metadata": {},
          "execution_count": 138
        }
      ]
    },
    {
      "cell_type": "markdown",
      "source": [
        "Получили следущие лучшие параметры для модели."
      ],
      "metadata": {
        "id": "XWLBdKyzlzBX"
      }
    },
    {
      "cell_type": "code",
      "source": [
        "search.best_params_"
      ],
      "metadata": {
        "id": "JAPMV-F6uOvo",
        "outputId": "8f6f7ec3-b029-4bb7-8b04-e88af4ff0e25",
        "colab": {
          "base_uri": "https://localhost:8080/"
        }
      },
      "execution_count": null,
      "outputs": [
        {
          "output_type": "execute_result",
          "data": {
            "text/plain": [
              "{'criterion': 'gini',\n",
              " 'max_depth': 9,\n",
              " 'min_samples_leaf': 9,\n",
              " 'min_samples_split': 2}"
            ]
          },
          "metadata": {},
          "execution_count": 139
        }
      ]
    },
    {
      "cell_type": "code",
      "source": [
        "best_clf = search.best_estimator_"
      ],
      "metadata": {
        "id": "v296hwyyeaH-"
      },
      "execution_count": null,
      "outputs": []
    },
    {
      "cell_type": "markdown",
      "source": [
        "Сделаем предсказание."
      ],
      "metadata": {
        "id": "EmqH9Zfjl5vG"
      }
    },
    {
      "cell_type": "code",
      "source": [
        "y_pred_clf = best_clf.predict(X_test)"
      ],
      "metadata": {
        "id": "meOB_wfdikfM"
      },
      "execution_count": null,
      "outputs": []
    },
    {
      "cell_type": "code",
      "source": [
        "f1_score(y_pred_clf, y_test)"
      ],
      "metadata": {
        "id": "1-D2Orbuikc4",
        "outputId": "57455cc5-ea5d-4ed2-a794-b85401824f4f",
        "colab": {
          "base_uri": "https://localhost:8080/"
        }
      },
      "execution_count": null,
      "outputs": [
        {
          "output_type": "execute_result",
          "data": {
            "text/plain": [
              "0.5695364238410596"
            ]
          },
          "metadata": {},
          "execution_count": 159
        }
      ]
    },
    {
      "cell_type": "markdown",
      "source": [
        "Получили не самый высокий показатель."
      ],
      "metadata": {
        "id": "MPFAiS90mGR7"
      }
    },
    {
      "cell_type": "markdown",
      "source": [
        "Обучим следующую модель. Случайный лес."
      ],
      "metadata": {
        "id": "s0ebkd3HmOnj"
      }
    },
    {
      "cell_type": "code",
      "source": [
        "for_clf = RandomForestClassifier()"
      ],
      "metadata": {
        "id": "BTsfgogXikab"
      },
      "execution_count": null,
      "outputs": []
    },
    {
      "cell_type": "code",
      "source": [
        "params = {\n",
        "    'n_estimators': range(10, 100, 10),\n",
        "    'max_depth': range(1, 10),\n",
        "    'min_samples_split': range(2, 7, 2)\n",
        "}"
      ],
      "metadata": {
        "id": "kxgd-IdxmpUm"
      },
      "execution_count": null,
      "outputs": []
    },
    {
      "cell_type": "code",
      "source": [
        "search = GridSearchCV(for_clf, params, n_jobs=-1)"
      ],
      "metadata": {
        "id": "lm_7NSvgmpR5"
      },
      "execution_count": null,
      "outputs": []
    },
    {
      "cell_type": "code",
      "source": [
        "search.fit(X_train, y_train)"
      ],
      "metadata": {
        "id": "y8U3cIF6mpPM",
        "outputId": "3e944ab8-959e-4d8e-b94f-7c43efd390e2",
        "colab": {
          "base_uri": "https://localhost:8080/"
        }
      },
      "execution_count": null,
      "outputs": [
        {
          "output_type": "execute_result",
          "data": {
            "text/plain": [
              "GridSearchCV(estimator=RandomForestClassifier(), n_jobs=-1,\n",
              "             param_grid={'max_depth': range(1, 10),\n",
              "                         'min_samples_split': range(2, 7, 2),\n",
              "                         'n_estimators': range(10, 100, 10)})"
            ]
          },
          "metadata": {},
          "execution_count": 153
        }
      ]
    },
    {
      "cell_type": "markdown",
      "source": [
        "Получили следущие лучшие параметры для модели."
      ],
      "metadata": {
        "id": "v04L1mGHsJhS"
      }
    },
    {
      "cell_type": "code",
      "source": [
        "search.best_params_"
      ],
      "metadata": {
        "id": "bh3yRpnfmpM-",
        "outputId": "763851a9-ec2c-4571-bca9-4384591381c5",
        "colab": {
          "base_uri": "https://localhost:8080/"
        }
      },
      "execution_count": null,
      "outputs": [
        {
          "output_type": "execute_result",
          "data": {
            "text/plain": [
              "{'max_depth': 9, 'min_samples_split': 2, 'n_estimators': 20}"
            ]
          },
          "metadata": {},
          "execution_count": 154
        }
      ]
    },
    {
      "cell_type": "markdown",
      "source": [
        "Сделаем предсказание."
      ],
      "metadata": {
        "id": "T5KBzd4dsO7-"
      }
    },
    {
      "cell_type": "code",
      "source": [
        "best_for_clf = search.best_estimator_"
      ],
      "metadata": {
        "id": "67JAYfLempKm"
      },
      "execution_count": null,
      "outputs": []
    },
    {
      "cell_type": "code",
      "source": [
        "y_pred_for_clf = best_for_clf.predict(X_test)"
      ],
      "metadata": {
        "id": "IOZDk9PImpH7"
      },
      "execution_count": null,
      "outputs": []
    },
    {
      "cell_type": "code",
      "source": [
        "f1_score(y_pred_for_clf, y_test)"
      ],
      "metadata": {
        "id": "KH3wHil6sj5l",
        "outputId": "ec311aca-ee70-4b3b-fa8e-96ff897ff841",
        "colab": {
          "base_uri": "https://localhost:8080/"
        }
      },
      "execution_count": null,
      "outputs": [
        {
          "output_type": "execute_result",
          "data": {
            "text/plain": [
              "0.6202090592334495"
            ]
          },
          "metadata": {},
          "execution_count": 162
        }
      ]
    },
    {
      "cell_type": "markdown",
      "source": [
        "Модель показывает резудьтаты лучше, чем обычное дерево, но не очень сильно."
      ],
      "metadata": {
        "id": "A4fB-LkustWX"
      }
    },
    {
      "cell_type": "markdown",
      "source": [
        "Обучим еще одну модель на тех же даных."
      ],
      "metadata": {
        "id": "jUp1R-BjtIYv"
      }
    },
    {
      "cell_type": "code",
      "source": [
        "svc = LinearSVC()"
      ],
      "metadata": {
        "id": "EOG2e7PptMql"
      },
      "execution_count": null,
      "outputs": []
    },
    {
      "cell_type": "code",
      "source": [
        "svc.fit(X_train, y_train)"
      ],
      "metadata": {
        "id": "nxqnP1bhtMoc",
        "outputId": "8eaea717-960a-46af-b345-b1f860eff2f1",
        "colab": {
          "base_uri": "https://localhost:8080/"
        }
      },
      "execution_count": null,
      "outputs": [
        {
          "output_type": "execute_result",
          "data": {
            "text/plain": [
              "LinearSVC()"
            ]
          },
          "metadata": {},
          "execution_count": 164
        }
      ]
    },
    {
      "cell_type": "code",
      "source": [
        "y_pred_svc = svc.predict(X_test)"
      ],
      "metadata": {
        "id": "kVusfU82tMlk"
      },
      "execution_count": null,
      "outputs": []
    },
    {
      "cell_type": "code",
      "source": [
        "f1_score(y_pred_svc, y_test)"
      ],
      "metadata": {
        "id": "lmlru4l3tMjI",
        "outputId": "5a499f85-9af2-4f6f-f79c-833a883fb514",
        "colab": {
          "base_uri": "https://localhost:8080/"
        }
      },
      "execution_count": null,
      "outputs": [
        {
          "output_type": "execute_result",
          "data": {
            "text/plain": [
              "0.6249999999999999"
            ]
          },
          "metadata": {},
          "execution_count": 167
        }
      ]
    },
    {
      "cell_type": "markdown",
      "source": [
        "Покажем результаты всех 3 моделей."
      ],
      "metadata": {
        "id": "Y3F2lqrBuP0Q"
      }
    },
    {
      "cell_type": "code",
      "source": [
        "print('DecisionTreeClassifier f1_score =', f1_score(y_pred_clf, y_test))\n",
        "print('RandomTreeClassifier f1_score =', f1_score(y_pred_for_clf, y_test))\n",
        "print('LinearSVC f1_score =', f1_score(y_pred_svc, y_test))"
      ],
      "metadata": {
        "id": "5Qvmo15ot1i2",
        "outputId": "37933cf3-b487-4758-bc74-feaa294982c2",
        "colab": {
          "base_uri": "https://localhost:8080/"
        }
      },
      "execution_count": null,
      "outputs": [
        {
          "output_type": "stream",
          "name": "stdout",
          "text": [
            "DecisionTreeClassifier f1_score = 0.5695364238410596\n",
            "RandomTreeClassifier f1_score = 0.6202090592334495\n",
            "LinearSVC f1_score = 0.6249999999999999\n"
          ]
        }
      ]
    },
    {
      "cell_type": "markdown",
      "source": [
        "Обучим те же модели для 2 варианта классификации и посмотрим результат."
      ],
      "metadata": {
        "id": "IzA0l0z6uUg3"
      }
    },
    {
      "cell_type": "code",
      "source": [
        "X_train, X_test, y_train, y_test = train_test_split(X, y_nark, test_size=0.3, random_state=0)"
      ],
      "metadata": {
        "id": "ZNDyEJyjuov-"
      },
      "execution_count": null,
      "outputs": []
    },
    {
      "cell_type": "code",
      "source": [
        "best_clf.fit(X_train, y_train)"
      ],
      "metadata": {
        "id": "fmNlpf2UuouG",
        "outputId": "ccc47baf-0068-43f4-adc3-64b98cdf2936",
        "colab": {
          "base_uri": "https://localhost:8080/"
        }
      },
      "execution_count": null,
      "outputs": [
        {
          "output_type": "execute_result",
          "data": {
            "text/plain": [
              "DecisionTreeClassifier(max_depth=9, min_samples_leaf=9)"
            ]
          },
          "metadata": {},
          "execution_count": 171
        }
      ]
    },
    {
      "cell_type": "code",
      "source": [
        "best_for_clf.fit(X_train, y_train)"
      ],
      "metadata": {
        "id": "7V0lf_Nfuorj",
        "outputId": "33810eea-a070-482c-84b8-5de543ee1e4b",
        "colab": {
          "base_uri": "https://localhost:8080/"
        }
      },
      "execution_count": null,
      "outputs": [
        {
          "output_type": "execute_result",
          "data": {
            "text/plain": [
              "RandomForestClassifier(max_depth=9, n_estimators=20)"
            ]
          },
          "metadata": {},
          "execution_count": 174
        }
      ]
    },
    {
      "cell_type": "code",
      "source": [
        "svc.fit(X_train, y_train)"
      ],
      "metadata": {
        "id": "C6dPHGdyuoo5",
        "outputId": "97e5797d-3f9e-4daa-a99c-7483b0f8a59c",
        "colab": {
          "base_uri": "https://localhost:8080/"
        }
      },
      "execution_count": null,
      "outputs": [
        {
          "output_type": "execute_result",
          "data": {
            "text/plain": [
              "LinearSVC()"
            ]
          },
          "metadata": {},
          "execution_count": 175
        }
      ]
    },
    {
      "cell_type": "code",
      "source": [
        "print('DecisionTreeClassifier f1_score =', f1_score(best_clf.predict(X_test), y_test))\n",
        "print('RandomTreeClassifier f1_score =', f1_score(best_for_clf.predict(X_test), y_test))\n",
        "print('LinearSVC f1_score =', f1_score(svc.predict(X_test), y_test))"
      ],
      "metadata": {
        "id": "ZPxebZNruomL",
        "outputId": "f981a156-8d63-43cb-8f92-552320894093",
        "colab": {
          "base_uri": "https://localhost:8080/"
        }
      },
      "execution_count": null,
      "outputs": [
        {
          "output_type": "stream",
          "name": "stdout",
          "text": [
            "DecisionTreeClassifier f1_score = 0.7942238267148014\n",
            "RandomTreeClassifier f1_score = 0.8277087033747781\n",
            "LinearSVC f1_score = 0.8324697754749568\n"
          ]
        }
      ]
    },
    {
      "cell_type": "markdown",
      "source": [
        "Видим, что на этих данных моделю показывают более высокие результаты.\n",
        "\n",
        "\n",
        "Модели для первого варианта классификации требуют доработки."
      ],
      "metadata": {
        "id": "qcUOBj2kvZd-"
      }
    },
    {
      "cell_type": "markdown",
      "source": [
        "Давайте выведем, какие признаки были самыми популярными у моделей деревьев."
      ],
      "metadata": {
        "id": "k2Z470GzxX9h"
      }
    },
    {
      "cell_type": "code",
      "source": [
        "imp = pd.DataFrame(best_clf.feature_importances_, index=X.columns, columns=['importance'])\n",
        "imp.sort_values('importance').plot(kind='barh', figsize=(12, 8), title='DecisionTreeClassifier')"
      ],
      "metadata": {
        "id": "Fm9BhYfaxMdp",
        "outputId": "3f030f1e-c09e-4333-d38c-01b9ab22155a",
        "colab": {
          "base_uri": "https://localhost:8080/",
          "height": 516
        }
      },
      "execution_count": null,
      "outputs": [
        {
          "output_type": "execute_result",
          "data": {
            "text/plain": [
              "<matplotlib.axes._subplots.AxesSubplot at 0x7f98a69bf710>"
            ]
          },
          "metadata": {},
          "execution_count": 180
        },
        {
          "output_type": "display_data",
          "data": {
            "image/png": "[encoded data removed]",
            "text/plain": [
              "<Figure size 864x576 with 1 Axes>"
            ]
          },
          "metadata": {
            "needs_background": "light"
          }
        }
      ]
    },
    {
      "cell_type": "code",
      "source": [
        "imp = pd.DataFrame(best_for_clf.feature_importances_, index=X.columns, columns=['importance'])\n",
        "imp.sort_values('importance').plot(kind='barh', figsize=(12, 8), title='RandomTreeClassifier')"
      ],
      "metadata": {
        "id": "omYp95eK0la_",
        "outputId": "2374068a-452d-4235-81ef-31b9649abbf1",
        "colab": {
          "base_uri": "https://localhost:8080/",
          "height": 516
        }
      },
      "execution_count": null,
      "outputs": [
        {
          "output_type": "execute_result",
          "data": {
            "text/plain": [
              "<matplotlib.axes._subplots.AxesSubplot at 0x7f98a6943f50>"
            ]
          },
          "metadata": {},
          "execution_count": 181
        },
        {
          "output_type": "display_data",
          "data": {
            "image/png": "[encoded data removed]",
            "text/plain": [
              "<Figure size 864x576 with 1 Axes>"
            ]
          },
          "metadata": {
            "needs_background": "light"
          }
        }
      ]
    },
    {
      "cell_type": "markdown",
      "source": [
        "Как видим случайный лес использует больше хаарктеристик для предсказаний."
      ],
      "metadata": {
        "id": "j1JHzHKX1Qn5"
      }
    },
    {
      "cell_type": "markdown",
      "source": [
        "Что еще интересного можно сделать:\n",
        "\n",
        "\n",
        "*   можно построить еще простенькие модели для любителей шоколада, заядлых курильщиков; \n",
        "*   можно построить модель предсказания алкоголизма, учитывая еще и пристрастие к сигаретам и определенным видам наркотиков, проранжировав соответствующие столбцы по шкале (\"Никогда не прпинимал\" - 0, \"Принимал вчера\" - 7);\n",
        "*   так же можно предсказать употребление одного из видов наркотиков, учитывая другие виды, проранжировав как указано выше.\n",
        "\n",
        "\n"
      ],
      "metadata": {
        "id": "cKNZu1zb1Ys9"
      }
    },
    {
      "cell_type": "markdown",
      "metadata": {
        "id": "mctVa1YzQ65C"
      },
      "source": [
        "### **Задание №4**. Предположим, что мы построили рекомендательную систему, и ожидаем, что средний чек клиента вследствие этого должен вырасти. Мы провели AB-тест и собрали данные по контрольной и тестовой группе. Предложите и проведите статистический тест, который можно применить к этим данным.\n",
        "\n",
        "В процессе выполнения задания разрешено пользоваться библиотеками scipy и statsmodels."
      ]
    },
    {
      "cell_type": "code",
      "metadata": {
        "id": "ViwZxe1uSLwG"
      },
      "source": [
        "import numpy as np\n",
        "\n",
        "# Сгенерируем данные для задачи\n",
        "control = np.random.lognormal(mean=5, sigma=2, size=(100000,))\n",
        "test = np.random.lognormal(mean=5.04, sigma=2, size=(100000,))"
      ],
      "execution_count": null,
      "outputs": []
    },
    {
      "cell_type": "markdown",
      "source": [
        "Предлагается использовать критерий Стьюдента или t-тест. Вообще данный критерий применим для нормлаьно распределенных данных, но при таком коллиечтсве данных, которые мы имеем можно применить t-test.\n",
        "\n",
        "H0 - в выборках нет значимого статистического различия.\n",
        "\n",
        "Н1 - выборки статистически различны."
      ],
      "metadata": {
        "id": "FrKF8mSN6rUL"
      }
    },
    {
      "cell_type": "markdown",
      "source": [
        "Импортируем соответствующую библиотеку."
      ],
      "metadata": {
        "id": "Zvwb-dQ76t_T"
      }
    },
    {
      "cell_type": "code",
      "metadata": {
        "id": "Nw6iyva0SPXh"
      },
      "source": [
        "from scipy.stats import ttest_ind"
      ],
      "execution_count": null,
      "outputs": []
    },
    {
      "cell_type": "markdown",
      "source": [
        "Применяем t-тест."
      ],
      "metadata": {
        "id": "L_MErS1v61Ge"
      }
    },
    {
      "cell_type": "code",
      "source": [
        "stat, t = ttest_ind(control, test)\n",
        "print('Statistics=%.3f, p=%.3f' % (stat, t))"
      ],
      "metadata": {
        "id": "OQqv1hmKw2P_",
        "outputId": "90c37db1-4302-46ad-f392-40324d47993d",
        "colab": {
          "base_uri": "https://localhost:8080/"
        }
      },
      "execution_count": null,
      "outputs": [
        {
          "output_type": "stream",
          "name": "stdout",
          "text": [
            "Statistics=0.618, p=0.537\n"
          ]
        }
      ]
    },
    {
      "cell_type": "markdown",
      "source": [
        "При таком большем количестве данных, критическое значение t при уровне значимости 0.05 равно 1.96."
      ],
      "metadata": {
        "id": "bpkpIonU69jH"
      }
    },
    {
      "cell_type": "code",
      "source": [
        "t_cr = 1.96\n",
        "if t > alpha:\n",
        "\tprint('Принимаем нулевую гипотезу.')\n",
        "else:\n",
        "\tprint('Отклоняем нулевую гипотезу.')"
      ],
      "metadata": {
        "id": "yR6awfQqw1-A",
        "outputId": "55135fc6-7d35-4cbf-8dbf-e7f7e3bee31a",
        "colab": {
          "base_uri": "https://localhost:8080/"
        }
      },
      "execution_count": null,
      "outputs": [
        {
          "output_type": "stream",
          "name": "stdout",
          "text": [
            "Принимаем нулевую гипотезу.\n"
          ]
        }
      ]
    },
    {
      "cell_type": "markdown",
      "source": [
        "Принимаем нулевую гипотезу, выборки не имеют статистического различия."
      ],
      "metadata": {
        "id": "nvdgRxRm7kik"
      }
    },
    {
      "cell_type": "markdown",
      "metadata": {
        "id": "iaW5kiF3VJhN"
      },
      "source": [
        "### **Задание №4 (*)**. В прошлом задании мы улавливали статистически значимое различие в средних в 0.04 единицы на выборке из 100000 клиентов. Насколько больше нам требуется собрать клиентов, чтобы уловить различие в 0.02?"
      ]
    },
    {
      "cell_type": "markdown",
      "source": [
        "Формула определения объема выборки выглядит так: $n=((t' * σ) / δ)^2 * 2$, \n",
        "\n",
        "где $t'$ - критическое значение стандартизованного нормального распределения, σ - cтандартное отклонение, δ - разность средних значений. Формула взята из книги  \"Медико-биологическая статистика\" Стентон Гланц. http://medstatistic.ru/articles/glantz.pdf\n",
        "\n",
        "Для нашего анализа выберем $z = 1.96$, что соответсвутет 95% доверительному интервалу, σ = 2, разность средних значений 0.02."
      ],
      "metadata": {
        "id": "5O6DudXrUW28"
      }
    },
    {
      "cell_type": "code",
      "metadata": {
        "id": "nJbyYyIQVfZQ",
        "colab": {
          "base_uri": "https://localhost:8080/"
        },
        "outputId": "0da008cc-64d9-449a-ded0-30c9d3b52e1b"
      },
      "source": [
        "n = ((1.96 * 2) / 0.02) ** 2 * 2\n",
        "n"
      ],
      "execution_count": null,
      "outputs": [
        {
          "output_type": "execute_result",
          "data": {
            "text/plain": [
              "76832.0"
            ]
          },
          "metadata": {},
          "execution_count": 44
        }
      ]
    },
    {
      "cell_type": "markdown",
      "source": [
        "Количество наблюдений должно быть равно 76832.0."
      ],
      "metadata": {
        "id": "Rqv0N_CgWpgs"
      }
    }
  ]
}