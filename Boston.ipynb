{
  "cells": [
    {
      "cell_type": "markdown",
      "metadata": {
        "id": "view-in-github",
        "colab_type": "text"
      },
      "source": [
        "<a href=\"https://colab.research.google.com/github/VorobyvEgor/Data_Science_with_Python/blob/my_education/Boston.ipynb\" target=\"_parent\"><img src=\"https://colab.research.google.com/assets/colab-badge.svg\" alt=\"Open In Colab\"/></a>"
      ]
    },
    {
      "cell_type": "markdown",
      "metadata": {
        "id": "09vDpiklBMaz"
      },
      "source": [
        "### Предсказание средней (медианной) стоимости домов в районах Бостона\n",
        "\n",
        "Объект: район города Бостона\n",
        "\n",
        "Целевая переменная: средняя (медианная) стоимость домов\n",
        "\n",
        "Задача: предсказание целевой переменной по признакам объекта\n",
        "\n",
        "Тип задачи: регрессия\n",
        "    \n",
        "Мы построим линейную модель на этих данных, оценим качество предсказания и проанализируем полученные веса признаков.\n",
        "\n",
        "__Ваша задача:__ Наводите курсором по очереди на каждую ячейку с кодом и нажимайте кнопку Run слева от ячейки (круглая кнопка со значком ᐈ). В некоторых ячейках нужно вставить код: в этом случае Вы сначала вставляете фрагмент кода, затем нажимаете кнопку Run. __Очень важно__ нажать Run для __всех__ ячеек в порядке сверху вниз.\n",
        "\n",
        "Меткой __Задание__ помечены фрагменты, где Вам нужно вставить свой код. Меткой __Тест__ помечены фрагменты, про которые Вам нужно выбрать ответ в тесте.\n",
        "\n",
        "Некоторые ячейки печатают какой-то результат, а некоторые не печатают."
      ]
    },
    {
      "cell_type": "markdown",
      "metadata": {
        "id": "uNBMuqjkBMa-"
      },
      "source": [
        "Загружаем данные:"
      ]
    },
    {
      "cell_type": "code",
      "execution_count": 1,
      "metadata": {
        "collapsed": true,
        "id": "Z3yOQtmDBMbA"
      },
      "outputs": [],
      "source": [
        "from sklearn.datasets import load_boston"
      ]
    },
    {
      "cell_type": "code",
      "execution_count": 3,
      "metadata": {
        "collapsed": true,
        "id": "jFSYdhr6BMbD",
        "outputId": "94da006a-f7f5-4d3e-cd7a-9d748c5ca23f",
        "colab": {
          "base_uri": "https://localhost:8080/"
        }
      },
      "outputs": [
        {
          "output_type": "stream",
          "name": "stderr",
          "text": [
            "/usr/local/lib/python3.7/dist-packages/sklearn/utils/deprecation.py:87: FutureWarning: Function load_boston is deprecated; `load_boston` is deprecated in 1.0 and will be removed in 1.2.\n",
            "\n",
            "    The Boston housing prices dataset has an ethical problem. You can refer to\n",
            "    the documentation of this function for further details.\n",
            "\n",
            "    The scikit-learn maintainers therefore strongly discourage the use of this\n",
            "    dataset unless the purpose of the code is to study and educate about\n",
            "    ethical issues in data science and machine learning.\n",
            "\n",
            "    In this special case, you can fetch the dataset from the original\n",
            "    source::\n",
            "\n",
            "        import pandas as pd\n",
            "        import numpy as np\n",
            "\n",
            "\n",
            "        data_url = \"http://lib.stat.cmu.edu/datasets/boston\"\n",
            "        raw_df = pd.read_csv(data_url, sep=\"\\s+\", skiprows=22, header=None)\n",
            "        data = np.hstack([raw_df.values[::2, :], raw_df.values[1::2, :2]])\n",
            "        target = raw_df.values[1::2, 2]\n",
            "\n",
            "    Alternative datasets include the California housing dataset (i.e.\n",
            "    :func:`~sklearn.datasets.fetch_california_housing`) and the Ames housing\n",
            "    dataset. You can load the datasets as follows::\n",
            "\n",
            "        from sklearn.datasets import fetch_california_housing\n",
            "        housing = fetch_california_housing()\n",
            "\n",
            "    for the California housing dataset and::\n",
            "\n",
            "        from sklearn.datasets import fetch_openml\n",
            "        housing = fetch_openml(name=\"house_prices\", as_frame=True)\n",
            "\n",
            "    for the Ames housing dataset.\n",
            "    \n",
            "  warnings.warn(msg, category=FutureWarning)\n"
          ]
        }
      ],
      "source": [
        "boston_data = load_boston()"
      ]
    },
    {
      "cell_type": "code",
      "execution_count": 5,
      "metadata": {
        "collapsed": true,
        "id": "olWkdIxuBMbH"
      },
      "outputs": [],
      "source": [
        "X = boston_data[\"data\"]\n",
        "y = boston_data[\"target\"]"
      ]
    },
    {
      "cell_type": "markdown",
      "metadata": {
        "id": "6MkAXSI8BMbJ"
      },
      "source": [
        "X - таблица объектов и их признаков, y - целевые переменные.\n",
        "\n",
        "Посмотрим, сколько строк и сколько столбцов в таблице X (сначала выводится число строк, затем число столбцов):"
      ]
    },
    {
      "cell_type": "code",
      "execution_count": 6,
      "metadata": {
        "collapsed": true,
        "id": "zpVCZN-BBMbK",
        "outputId": "6b4735e5-4801-4c38-9ca8-339a7ff54841",
        "colab": {
          "base_uri": "https://localhost:8080/"
        }
      },
      "outputs": [
        {
          "output_type": "execute_result",
          "data": {
            "text/plain": [
              "(506, 13)"
            ]
          },
          "metadata": {},
          "execution_count": 6
        }
      ],
      "source": [
        "X.shape"
      ]
    },
    {
      "cell_type": "markdown",
      "metadata": {
        "id": "qt6n9hYZBMbM"
      },
      "source": [
        "Сколько элементов в y:"
      ]
    },
    {
      "cell_type": "code",
      "execution_count": 7,
      "metadata": {
        "collapsed": true,
        "id": "e035LzxzBMbO",
        "outputId": "eba22090-606a-402e-887e-1a971c923c77",
        "colab": {
          "base_uri": "https://localhost:8080/"
        }
      },
      "outputs": [
        {
          "output_type": "execute_result",
          "data": {
            "text/plain": [
              "(506,)"
            ]
          },
          "metadata": {},
          "execution_count": 7
        }
      ],
      "source": [
        "y.shape"
      ]
    },
    {
      "cell_type": "markdown",
      "metadata": {
        "id": "Pqi6na5gBMbU"
      },
      "source": [
        "Разделим данные на обучающую и тестовую выборки:"
      ]
    },
    {
      "cell_type": "code",
      "execution_count": 8,
      "metadata": {
        "collapsed": true,
        "id": "MQx_oKpwBMbW"
      },
      "outputs": [],
      "source": [
        "from sklearn.model_selection import train_test_split"
      ]
    },
    {
      "cell_type": "code",
      "execution_count": 9,
      "metadata": {
        "collapsed": true,
        "id": "RiGZY2XyBMbZ"
      },
      "outputs": [],
      "source": [
        "X_train, X_test, y_train, y_test = train_test_split(X, y)"
      ]
    },
    {
      "cell_type": "markdown",
      "metadata": {
        "id": "5anXdAt2BMba"
      },
      "source": [
        "__Задание+тест.__ Сколько объектов оказалось в обучающей выборке, а сколько в тестовой? Напишите код в каждую из двух ячеек ниже, нажмите Run для каждой ячейки и ответьте на вопрос теста.\n",
        "\n",
        "В первую ячейку впишите \n",
        "\n",
        "X_train.shape\n",
        "\n",
        "Во вторую ячейку впишите \n",
        "\n",
        "X_test.shape"
      ]
    },
    {
      "cell_type": "code",
      "execution_count": 10,
      "metadata": {
        "collapsed": true,
        "id": "B1157nNEBMbb",
        "outputId": "27d8a12d-b2a5-408b-c35f-184cda7c392c",
        "colab": {
          "base_uri": "https://localhost:8080/"
        }
      },
      "outputs": [
        {
          "output_type": "execute_result",
          "data": {
            "text/plain": [
              "(379, 13)"
            ]
          },
          "metadata": {},
          "execution_count": 10
        }
      ],
      "source": [
        "X_train.shape"
      ]
    },
    {
      "cell_type": "code",
      "execution_count": 11,
      "metadata": {
        "collapsed": true,
        "id": "JPFH0sI8BMbd",
        "outputId": "cc6cba8e-eeb0-4529-c7a8-afa540ee6725",
        "colab": {
          "base_uri": "https://localhost:8080/"
        }
      },
      "outputs": [
        {
          "output_type": "execute_result",
          "data": {
            "text/plain": [
              "(127, 13)"
            ]
          },
          "metadata": {},
          "execution_count": 11
        }
      ],
      "source": [
        "X_test.shape"
      ]
    },
    {
      "cell_type": "markdown",
      "metadata": {
        "id": "T-MGRIKkBMbd"
      },
      "source": [
        "Перед обучением модели нормируем данные (чтобы все признаки имели одинаковый масштаб):"
      ]
    },
    {
      "cell_type": "code",
      "execution_count": 12,
      "metadata": {
        "collapsed": true,
        "id": "kYXGa2t9BMbe"
      },
      "outputs": [],
      "source": [
        "from sklearn.preprocessing import MinMaxScaler"
      ]
    },
    {
      "cell_type": "code",
      "execution_count": 13,
      "metadata": {
        "collapsed": true,
        "id": "oGWZQ_RJBMbf"
      },
      "outputs": [],
      "source": [
        "scaler = MinMaxScaler()\n",
        "X_train = scaler.fit_transform(X_train)\n",
        "X_test = scaler.transform(X_test)"
      ]
    },
    {
      "cell_type": "code",
      "execution_count": 14,
      "metadata": {
        "collapsed": true,
        "id": "N77DfNLhBMbg"
      },
      "outputs": [],
      "source": [
        "from sklearn.linear_model import LinearRegression"
      ]
    },
    {
      "cell_type": "markdown",
      "metadata": {
        "id": "ZuEGgNJOBMbh"
      },
      "source": [
        "__Задание.__ Обучите модель линейной регрессии. Для обучения нам понадобятся признаки и значения целевых переменных на _обучающей_ выборке: X_train и y_train. Напишите команду \n",
        "\n",
        "model.fit(X_train, y_train)\n",
        "\n",
        "в последней строчке ячейки ниже:"
      ]
    },
    {
      "cell_type": "code",
      "execution_count": 16,
      "metadata": {
        "collapsed": true,
        "id": "Bf8cytaVBMbi",
        "outputId": "a9510aae-d34f-4127-f2d2-7e5b9f53ceee",
        "colab": {
          "base_uri": "https://localhost:8080/"
        }
      },
      "outputs": [
        {
          "output_type": "execute_result",
          "data": {
            "text/plain": [
              "LinearRegression()"
            ]
          },
          "metadata": {},
          "execution_count": 16
        }
      ],
      "source": [
        "model = LinearRegression()\n",
        "model.fit(X_train, y_train)"
      ]
    },
    {
      "cell_type": "markdown",
      "metadata": {
        "id": "cXWtSxhpBMbi"
      },
      "source": [
        "Выполним предсказания с помощью обученной модели для объектов тестовой выборки (понадобятся только _признаки_ для тестовой выборки):"
      ]
    },
    {
      "cell_type": "code",
      "execution_count": 17,
      "metadata": {
        "collapsed": true,
        "id": "wn2dj-t0BMbj"
      },
      "outputs": [],
      "source": [
        "predictions_test = model.predict(X_test)"
      ]
    },
    {
      "cell_type": "markdown",
      "metadata": {
        "id": "yle5RaUKBMbk"
      },
      "source": [
        "Оценим среднюю ошибку предсказаний (понадобятся предсказания и значения целевых переменных для _тестовой_ выборки):"
      ]
    },
    {
      "cell_type": "code",
      "execution_count": 18,
      "metadata": {
        "collapsed": true,
        "id": "JTe87Ae5BMbk"
      },
      "outputs": [],
      "source": [
        "from sklearn.metrics import mean_absolute_error"
      ]
    },
    {
      "cell_type": "code",
      "execution_count": 19,
      "metadata": {
        "collapsed": true,
        "id": "87ZxKfwhBMbl",
        "outputId": "8fc043e8-fb0e-4b84-87fb-4f0c22a2b91e",
        "colab": {
          "base_uri": "https://localhost:8080/"
        }
      },
      "outputs": [
        {
          "output_type": "execute_result",
          "data": {
            "text/plain": [
              "3.6191274461730787"
            ]
          },
          "metadata": {},
          "execution_count": 19
        }
      ],
      "source": [
        "mean_absolute_error(y_test, predictions_test)"
      ]
    },
    {
      "cell_type": "markdown",
      "metadata": {
        "id": "or-832G9BMbm"
      },
      "source": [
        "__Тест:__ Ответьте в тесте, в каких границах оказалось полученное значение ошибки.\n",
        "\n",
        "Величина, которую мы предсказываем, измеряется в десятках, так что полученное значение средней ошибки - вполне хороший результат!"
      ]
    },
    {
      "cell_type": "markdown",
      "metadata": {
        "id": "2R0T6Z4bBMbm"
      },
      "source": [
        "Выведем получившиеся веса для всех признаков, отсортировав признаки в порядке возрастания веса:"
      ]
    },
    {
      "cell_type": "code",
      "execution_count": 20,
      "metadata": {
        "collapsed": true,
        "id": "uqVOfwnNBMbn"
      },
      "outputs": [],
      "source": [
        "import pandas"
      ]
    },
    {
      "cell_type": "code",
      "execution_count": 21,
      "metadata": {
        "collapsed": true,
        "id": "c9Xg9lldBMbo",
        "outputId": "282a030e-40dc-4676-d05d-3289a141d335",
        "colab": {
          "base_uri": "https://localhost:8080/",
          "height": 457
        }
      },
      "outputs": [
        {
          "output_type": "execute_result",
          "data": {
            "text/html": [
              "<div>\n",
              "<style scoped>\n",
              "    .dataframe tbody tr th:only-of-type {\n",
              "        vertical-align: middle;\n",
              "    }\n",
              "\n",
              "    .dataframe tbody tr th {\n",
              "        vertical-align: top;\n",
              "    }\n",
              "\n",
              "    .dataframe thead th {\n",
              "        text-align: right;\n",
              "    }\n",
              "</style>\n",
              "<table border=\"1\" class=\"dataframe\">\n",
              "  <thead>\n",
              "    <tr style=\"text-align: right;\">\n",
              "      <th></th>\n",
              "      <th>веса</th>\n",
              "      <th>признаки</th>\n",
              "    </tr>\n",
              "  </thead>\n",
              "  <tbody>\n",
              "    <tr>\n",
              "      <th>12</th>\n",
              "      <td>-18.077108</td>\n",
              "      <td>LSTAT</td>\n",
              "    </tr>\n",
              "    <tr>\n",
              "      <th>7</th>\n",
              "      <td>-14.877200</td>\n",
              "      <td>DIS</td>\n",
              "    </tr>\n",
              "    <tr>\n",
              "      <th>4</th>\n",
              "      <td>-9.048153</td>\n",
              "      <td>NOX</td>\n",
              "    </tr>\n",
              "    <tr>\n",
              "      <th>10</th>\n",
              "      <td>-8.922157</td>\n",
              "      <td>PTRATIO</td>\n",
              "    </tr>\n",
              "    <tr>\n",
              "      <th>0</th>\n",
              "      <td>-7.899092</td>\n",
              "      <td>CRIM</td>\n",
              "    </tr>\n",
              "    <tr>\n",
              "      <th>9</th>\n",
              "      <td>-7.367719</td>\n",
              "      <td>TAX</td>\n",
              "    </tr>\n",
              "    <tr>\n",
              "      <th>2</th>\n",
              "      <td>1.224249</td>\n",
              "      <td>INDUS</td>\n",
              "    </tr>\n",
              "    <tr>\n",
              "      <th>6</th>\n",
              "      <td>1.429285</td>\n",
              "      <td>AGE</td>\n",
              "    </tr>\n",
              "    <tr>\n",
              "      <th>3</th>\n",
              "      <td>2.563895</td>\n",
              "      <td>CHAS</td>\n",
              "    </tr>\n",
              "    <tr>\n",
              "      <th>11</th>\n",
              "      <td>3.884608</td>\n",
              "      <td>B</td>\n",
              "    </tr>\n",
              "    <tr>\n",
              "      <th>1</th>\n",
              "      <td>5.185943</td>\n",
              "      <td>ZN</td>\n",
              "    </tr>\n",
              "    <tr>\n",
              "      <th>8</th>\n",
              "      <td>7.761430</td>\n",
              "      <td>RAD</td>\n",
              "    </tr>\n",
              "    <tr>\n",
              "      <th>5</th>\n",
              "      <td>20.262065</td>\n",
              "      <td>RM</td>\n",
              "    </tr>\n",
              "  </tbody>\n",
              "</table>\n",
              "</div>"
            ],
            "text/plain": [
              "         веса признаки\n",
              "12 -18.077108    LSTAT\n",
              "7  -14.877200      DIS\n",
              "4   -9.048153      NOX\n",
              "10  -8.922157  PTRATIO\n",
              "0   -7.899092     CRIM\n",
              "9   -7.367719      TAX\n",
              "2    1.224249    INDUS\n",
              "6    1.429285      AGE\n",
              "3    2.563895     CHAS\n",
              "11   3.884608        B\n",
              "1    5.185943       ZN\n",
              "8    7.761430      RAD\n",
              "5   20.262065       RM"
            ]
          },
          "metadata": {},
          "execution_count": 21
        }
      ],
      "source": [
        "weights = pandas.DataFrame({\"веса\":model.coef_,\\\n",
        "                        \"признаки\": boston_data[\"feature_names\"]})\n",
        "weights.sort_values(\"веса\")"
      ]
    },
    {
      "cell_type": "markdown",
      "metadata": {
        "id": "nuQZAbf5BMbp"
      },
      "source": [
        "Описание признаков (напоминаем, что один объект - это район города Бостона):\n",
        "\n",
        "- CRIM: Уровень преступности на душу населения\n",
        "- ZN: доля земли под жилую застройку, зонированной на участки площадью более 25 000 кв. Футов.\n",
        "- INDUS: доля акров, не относящихся к розничной торговле\n",
        "- CHAS: 1, если участок ограничивает реку; 0 в противном случае\n",
        "- NOX: Концентрация оксидов азота (частей на 10 миллионов)\n",
        "- RM: Среднее количество комнат в доме\n",
        "- AGE: доля домов, занимаемых владельцами, построенных до 1940 г.\n",
        "- DIS: взвешенные расстояния до пяти бостонских центров занятости\n",
        "- LSTAT: процент низкообеспеченного населения  в районе\n",
        "- RAD: Индекс доступности радиальных автомобильных дорог \n",
        "- TAX: Ставка налога на имущество в размере полной стоимости за 10 000 долларов США.\n",
        "- PTRATIO Соотношение учеников и учителей\n",
        "- B: 1000 (Bk - 0,63) ^ 2, где Bk - доля чернокожих\n",
        "- MEDV: Средняя стоимость частных домов в тысячах долларов\n",
        "\n",
        "В напечатанной таблице отображается, какой вклад в предсказанную стоимость носит каждая единица каждого признака. Например, для признака RM отображается, какую стоимость добавляет каждая комната в доме. Проанализируйте полученные веса: логично ли определились знаки признаков (увеличивает или уменьшает предсказание каждый признак)?\n",
        "\n",
        "__Тест:__ Найдите в таблице с весами признак, соответствующий проценту низкообеспеченного населения в районе. Если значение этого процента велико, будет ли предсказываться высокая средняя стоимость домов или низкая? Логичен ли такой результат?"
      ]
    }
  ],
  "metadata": {
    "kernelspec": {
      "display_name": "Python 3",
      "language": "python",
      "name": "python3"
    },
    "language_info": {
      "codemirror_mode": {
        "name": "ipython",
        "version": 3
      },
      "file_extension": ".py",
      "mimetype": "text/x-python",
      "name": "python",
      "nbconvert_exporter": "python",
      "pygments_lexer": "ipython3",
      "version": "3.6.3"
    },
    "colab": {
      "name": "Boston.ipynb",
      "provenance": [],
      "include_colab_link": true
    }
  },
  "nbformat": 4,
  "nbformat_minor": 0
}